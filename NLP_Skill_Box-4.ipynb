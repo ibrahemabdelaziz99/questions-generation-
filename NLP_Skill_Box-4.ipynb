{
 "cells": [
  {
   "cell_type": "code",
   "execution_count": 1,
   "id": "d4eb8e74",
   "metadata": {},
   "outputs": [],
   "source": [
    "import pandas as pd \n",
    "import re "
   ]
  },
  {
   "cell_type": "code",
   "execution_count": 2,
   "id": "78868715",
   "metadata": {},
   "outputs": [],
   "source": [
    "text = open(r'C:\\Users\\Khalid Hassan\\Downloads\\Ai hackathon\\Skill_BOK.txt',encoding= 'utf-16')\n",
    "data = text.read()"
   ]
  },
  {
   "cell_type": "code",
   "execution_count": 3,
   "id": "dd982953",
   "metadata": {},
   "outputs": [
    {
     "data": {
      "text/plain": [
       "'Python (programming language)\\nFrom Wikipedia, the free encyclopedia\\nPython is an interpreted high-level general-purpose programming language. Its design philosophy emphasizes code readability with its use of significant indentation. Its language constructs as well as its object-oriented approach aim to help programmers write clear, logical code for small and large-scale projects.[30]\\n\\nPython is dynamically-typed and garbage-collected. It supports multiple programming paradigms, including structured (particularly, procedural), object-oriented and functional programming. It is often described as a \"batteries included\" language due to its comprehensive standard library.[31]\\n\\nGuido van Rossum began working on Python in the late 1980s, as a successor to the ABC programming language, and first released it in 1991 as Python 0.9.0.[32] Python 2.0 was released in 2000 and introduced new features, such as list comprehensions and a garbage collection system using reference counting. Python 3.0 was released in 2008 and was a major revision of the language that is not completely backward-compatible. Python 2 was discontinued with version 2.7.18 in 2020.[33]\\n\\nPython consistently ranks as one of the most popular programming languages.[34][35][36][37]\\nHistory\\nPython was conceived in the late 1980s[38] by Guido van Rossum at Centrum Wiskunde & Informatica (CWI) in the Netherlands as a successor to ABC programming language, which was inspired by SETL,[39] capable of exception handling and interfacing with the Amoeba operating system.[10] Its implementation began in December 1989.[40] Van Rossum shouldered sole responsibility for the project, as the lead developer, until 12 July 2018, when he announced his \"permanent vacation\" from his responsibilities as Python\\'s \"Benevolent Dictator For Life\", a title the Python community bestowed upon him to reflect his long-term commitment as the project\\'s chief decision-maker.[41] In January 2019, active Python core developers elected a five-member \"Steering Council\" to lead the project.[42][43]\\n\\nPython 2.0 was released on 16 October 2000, with many major new features, including a cycle-detecting garbage collector and support for Unicode.[44]\\n\\nPython 3.0 was released on 3 December 2008. It was a major revision of the language that is not completely backward-compatible.[45] Many of its major features were backported to Python 2.6.x[46] and 2.7.x version series. Releases of Python 3 include the 2to3 utility, which automates the translation of Python 2 code to Python 3.[47]\\n\\nPython 2.7\\'s end-of-life date was initially set at 2015 then postponed to 2020 out of concern that a large body of existing code could not easily be forward-ported to Python 3.[48][49] No more security patches or other improvements will be released for it.[50][51] With Python 2\\'s end-of-life, only Python 3.6.x[52] and later are supported.\\n\\nPython 3.9.2 and 3.8.8 were expedited[53] as all versions of Python (including 2.7[54]) had security issues, leading to possible remote code execution[55] and web cache poisoning.[56]\\n\\nDesign philosophy and features\\nPython is a multi-paradigm programming language. Object-oriented programming and structured programming are fully supported, and many of its features support functional programming and aspect-oriented programming (including by metaprogramming[57] and metaobjects (magic methods)).[58] Many other paradigms are supported via extensions, including design by contract[59][60] and logic programming.[61]\\n\\nPython uses dynamic typing and a combination of reference counting and a cycle-detecting garbage collector for memory management.[62] It also features dynamic name resolution (late binding), which binds method and variable names during program execution.\\n\\nPython\\'s design offers some support for functional programming in the Lisp tradition. It has filter,mapandreduce functions; list comprehensions, dictionaries, sets, and generator expressions.[63] The standard library has two modules (itertools and functools) that implement functional tools borrowed from Haskell and Standard ML.[64]\\n\\nThe language\\'s core philosophy is summarized in the document The Zen of Python (PEP 20), which includes aphorisms such as:[65]\\n\\nBeautiful is better than ugly.\\nExplicit is better than implicit.\\nSimple is better than complex.\\nComplex is better than complicated.\\nReadability counts.\\nRather than having all of its functionality built into its core, Python was designed to be highly extensible (with modules). This compact modularity has made it particularly popular as a means of adding programmable interfaces to existing applications. Van Rossum\\'s vision of a small core language with a large standard library and easily extensible interpreter stemmed from his frustrations with ABC, which espoused the opposite approach.[38] It is often described as a \"batteries included\" language due to its comprehensive standard library.[66]\\n\\nPython strives for a simpler, less-cluttered syntax and grammar while giving developers a choice in their coding methodology. In contrast to Perl\\'s \"there is more than one way to do it\" motto, Python embraces a \"there should be one— and preferably only one —obvious way to do it\" design philosophy.[65] Alex Martelli, a Fellow at the Python Software Foundation and Python book author, writes that \"To describe something as \\'clever\\' is not considered a compliment in the Python culture.\"[67]\\n\\nPython\\'s developers strive to avoid premature optimization, and reject patches to non-critical parts of the CPython reference implementation that would offer marginal increases in speed at the cost of clarity.[68] When speed is important, a Python programmer can move time-critical functions to extension modules written in languages such as C, or use PyPy, a just-in-time compiler. Cython is also available, which translates a Python script into C and makes direct C-level API calls into the Python interpreter.\\n\\nPython\\'s developers aim for the language to be fun to use. This is reflected in its name—a tribute to the British comedy group Monty Python[69]—and in occasionally playful approaches to tutorials and reference materials, such as examples that refer to spam and eggs (a reference to a Monty Python sketch) instead of the standard foo and bar.[70][71]\\n\\nA common neologism in the Python community is pythonic, which can have a wide range of meanings related to program style. To say that code is pythonic is to say that it uses Python idioms well, that it is natural or shows fluency in the language, that it conforms with Python\\'s minimalist philosophy and emphasis on readability. In contrast, code that is difficult to understand or reads like a rough transcription from another programming language is called unpythonic.[72][73]\\n\\nUsers and admirers of Python, especially those considered knowledgeable or experienced, are often referred to as Pythonistas.[74][75]\\n\\nSyntax and semantics\\nMain article: Python syntax and semantics\\nPython is meant to be an easily readable language. Its formatting is visually uncluttered, and it often uses English keywords where other languages use punctuation. Unlike many other languages, it does not use curly brackets to delimit blocks, and semicolons after statements are allowed but are rarely, if ever, used. It has fewer syntactic exceptions and special cases than C or Pascal.[76]\\n\\nIndentation\\nMain article: Python syntax and semantics § Indentation\\nPython uses whitespace indentation, rather than curly brackets or keywords, to delimit blocks. An increase in indentation comes after certain statements; a decrease in indentation signifies the end of the current block.[77] Thus, the program\\'s visual structure accurately represents the program\\'s semantic structure.[78] This feature is sometimes termed the off-side rule, which some other languages share, but in most languages indentation does not have any semantic meaning. The recommended indent size is four spaces.[79]\\n\\nStatements and control flow\\nPython\\'s statements include (among others):\\n\\nThe assignment statement, using a single equals sign =.\\nThe if statement, which conditionally executes a block of code, along with else and elif (a contraction of else-if).\\nThe for statement, which iterates over an iterable object, capturing each element to a local variable for use by the attached block.\\nThe while statement, which executes a block of code as long as its condition is true.\\nThe try statement, which allows exceptions raised in its attached code block to be caught and handled by except clauses; it also ensures that clean-up code in a finally block will always be run regardless of how the block exits.\\nThe raise statement, used to raise a specified exception or re-raise a caught exception.\\nThe class statement, which executes a block of code and attaches its local namespace to a class, for use in object-oriented programming.\\nيبلميبةملنةيمبنلةيمنبةلمنيب يبل ينمبةل يمبنةل 0يب . يبلمويلك\\nThe def statement, which defines a function or method.\\nThe with statement, which encloses a code block within a context manager (for example, acquiring a lock before the block of code is run and releasing the lock afterwards, or opening a file and then closing it), allowing resource-acquisition-is-initialization (RAII)-like behavior and replaces a common try/finally idiom.[80]\\nThe break statement, exits from a loop.\\nThe continue statement, skips this iteration and continues with the next item.\\nThe del statement, removes a variable, which means the reference from the name to the value is deleted and trying to use that variable will cause an error. A deleted variable can be reassigned.\\nThe pass statement, which serves as a NOP. It is syntactically needed to create an empty code block.\\nThe assert statement, used during debugging to check for conditions that should apply.\\nThe yield statement, which returns a value from a generator function and yield is also an operator. This form is used to implement coroutines.\\nThe return statement, used to return a value from a function.\\nThe import statement, which is used to import modules whose functions or variables can be used in the current program.\\nThe assignment statement (=) operates by binding a name as a reference to a separate, dynamically-allocated object. Variables may subsequently be rebound at any time to any object. In Python, a variable name is a generic reference holder and does not have a fixed data type associated with it. However, at a given time, a variable will refer to some object, which will have a type. This is referred to as dynamic typing and is contrasted with statically-typed programming languages, where each variable may only contain values of a certain type.\\n\\nPython does not support tail call optimization or first-class continuations, and, according to Guido van Rossum, it never will.[81][82] However, better support for coroutine-like functionality is provided, by extending Python\\'s generators.[83] Before 2.5, generators were lazy iterators; information was passed unidirectionally out of the generator. From Python 2.5, it is possible to pass information back into a generator function, and from Python 3.3, the information can be passed through multiple stack levels.[84]\\n\\nExpressions\\nSome Python expressions are similar to those found in languages such as C and Java, while some are not:\\n\\nAddition, subtraction, and multiplication are the same, but the behavior of division differs. There are two types of divisions in Python. They are floor division (or integer division) // and floating-point/division.[85] Python also uses the ** operator for exponentiation.\\nFrom Python 3.5, the new @ infix operator was introduced. It is intended to be used by libraries such as NumPy for matrix multiplication.[86][87]\\nFrom Python 3.8, the syntax :=, called the \\'walrus operator\\' was introduced. It assigns values to variables as part of a larger expression.[88]\\nIn Python, == compares by value, versus Java, which compares numerics by value[89] and objects by reference.[90] (Value comparisons in Java on objects can be performed with the equals() method.) Python\\'s is operator may be used to compare object identities (comparison by reference). In Python, comparisons may be chained, for example a <= b <= c.\\nPython uses the words and, or, not for its boolean operators rather than the symbolic &&, ||, ! used in Java and C.\\nPython has a type of expression termed a list comprehension as well as a more general expression termed a generator expression.[63]\\nAnonymous functions are implemented using lambda expressions; however, these are limited in that the body can only be one expression.\\nConditional expressions in Python are written as x if c else y[91] (different in order of operands from the c ? x : y operator common to many other languages).\\nPython makes a distinction between lists and tuples. Lists are written as [1, 2, 3], are mutable, and cannot be used as the keys of dictionaries (dictionary keys must be immutable in Python). Tuples are written as (1, 2, 3), are immutable and thus can be used as the keys of dictionaries, provided all elements of the tuple are immutable. The + operator can be used to concatenate two tuples, which does not directly modify their contents, but rather produces a new tuple containing the elements of both provided tuples. Thus, given the variable t initially equal to (1, 2, 3), executing t = t + (4, 5) first evaluates t + (4, 5), which yields (1, 2, 3, 4, 5), which is then assigned back to t, thereby effectively \"modifying the contents\" of t, while conforming to the immutable nature of tuple objects. Parentheses are optional for tuples in unambiguous contexts.[92]\\nPython features sequence unpacking wherein multiple expressions, each evaluating to anything that can be assigned to (a variable, a writable property, etc.), are associated in an identical manner to that forming tuple literals and, as a whole, are put on the left-hand side of the equal sign in an assignment statement. The statement expects an iterable object on the right-hand side of the equal sign that produces the same number of values as the provided writable expressions when iterated through and will iterate through it, assigning each of the produced values to the corresponding expression on the left.[93]\\nPython has a \"string format\" operator %. This functions analogously to printf format strings in C, e.g. \"spam=%s eggs=%d\" % (\"blah\", 2) evaluates to \"spam=blah eggs=2\". In Python 3 and 2.6+, this was supplemented by the format() method of the str class, e.g. \"spam={0} eggs={1}\".format(\"blah\", 2). Python 3.6 added \"f-strings\": blah = \"blah\"; eggs = 2; f\\'spam={blah} eggs={eggs}\\'.[94]\\nStrings in Python can be concatenated, by \"adding\" them (same operator as for adding integers and floats). E.g. \"spam\" + \"eggs\" returns \"spameggs\". Even if your strings contain numbers, they are still added as strings rather than integers. E.g. \"2\" + \"2\" returns \"22\".\\nPython has various kinds of string literals:\\nStrings delimited by single or double quote marks. Unlike in Unix shells, Perl and Perl-influenced languages, single quote marks and double quote marks function identically. Both kinds of string use the backslash (\\\\) as an escape character. String interpolation became available in Python 3.6 as \"formatted string literals\".[94]\\nTriple-quoted strings, which begin and end with a series of three single or double quote marks. They may span multiple lines and function like here documents in shells, Perl and Ruby.\\nRaw string varieties, denoted by prefixing the string literal with an r. Escape sequences are not interpreted; hence raw strings are useful where literal backslashes are common, such as regular expressions and Windows-style paths. Compare \"@-quoting\" in C#.\\nPython has array index and array slicing expressions on lists, denoted as a[key], a[start:stop] or a[start:stop:step]. Indexes are zero-based, and negative indexes are relative to the end. Slices take elements from the start index up to, but not including, the stop index. The third slice parameter, called step or stride, allows elements to be skipped and reversed. Slice indexes may be omitted, for example a[:] returns a copy of the entire list. Each element of a slice is a shallow copy.\\nIn Python, a distinction between expressions and statements is rigidly enforced, in contrast to languages such as Common Lisp, Scheme, or Ruby. This leads to duplicating some functionality. For example:\\n\\nList comprehensions vs. for-loops\\nConditional expressions vs. if blocks\\nThe eval() vs. exec() built-in functions (in Python 2, exec is a statement); the former is for expressions, the latter is for statements.\\nStatements cannot be a part of an expression, so list and other comprehensions or lambda expressions, all being expressions, cannot contain statements. A particular case of this is that an assignment statement such as a = 1 cannot form part of the conditional expression of a conditional statement. This has the advantage of avoiding a classic C error of mistaking an assignment operator = for an equality operator == in conditions: if (c = 1) { ... } is syntactically valid (but probably unintended) C code but if c = 1: ... causes a syntax error in Python.\\n\\nMethods\\nMethods on objects are functions attached to the object\\'s class; the syntax instance.method(argument) is, for normal methods and functions, syntactic sugar for Class.method(instance, argument). Python methods have an explicit self parameter to access instance data, in contrast to the implicit self (or this) in some other object-oriented programming languages (e.g., C++, Java, Objective-C, or Ruby).[95] Apart from this, Python also provides methods, often called dunder methods (due to their names beginning and ending with double-underscores), to allow user-defined classes to modify how they are handled by native operations such as length, comparison, in arithmetic operations, type conversion, and many more.[96]\\n\\nTyping\\nPython uses duck typing and has typed objects but untyped variable names. Type constraints are not checked at compile time; rather, operations on an object may fail, signifying that the given object is not of a suitable type. Despite being dynamically-typed, Python is strongly-typed, forbidding operations that are not well-defined (for example, adding a number to a string) rather than silently attempting to make sense of them.\\n\\nPython allows programmers to define their own types using classes, which are most often used for object-oriented programming. New instances of classes are constructed by calling the class (for example, SpamClass() or EggsClass()), and the classes are instances of the metaclass type (itself an instance of itself), allowing metaprogramming and reflection.\\n\\nBefore version 3.0, Python had two kinds of classes: old-style and new-style.[97] The syntax of both styles is the same, the difference being whether the class object is inherited from, directly or indirectly (all new-style classes inherit from object and are instances of type). In versions of Python 2 from Python 2.2 onwards, both kinds of classes can be used. Old-style classes were eliminated in Python 3.0.\\n\\nThe long-term plan is to support gradual typing[98] and from Python 3.5, the syntax of the language allows specifying static types but they are not checked in the default implementation, CPython. An experimental optional static type checker named mypy supports compile-time type checking.[99]\\n\\nArithmetic operations\\nPython has the usual symbols for arithmetic operators (+, -, *, /), the floor division operator // and the modulo operation % (where the remainder can be negative, e.g. 4 % -3 == -2). It also has ** for exponentiation, e.g. 5**3 == 125 and 9**0.5 == 3.0, and a matrix‑multiplication operator @ .[103] These operators work like in traditional math; with the same precedence rules, the operators infix (+ and - can also be unary to represent positive and negative numbers respectively).\\n\\nThe division between integers produces floating-point results. The behavior of division has changed significantly over time:[104]\\n\\nCurrent Python (i.e. since 3.0) changed / to always be floating-point division, e.g. 5/2 == 2.5.\\nPython 2.2 changed integer division to round towards negative infinity, e.g. 7/3 == 2 and -7/3 == -3. The floor division // operator was introduced. So 7//3 == 2, -7//3 == -3, 7.5//3 == 2.0 and -7.5//3 == -3.0. Adding from __future__ import division causes a module to use Python 3.0 rules for division (see next).\\nPython 2.1 and earlier used C\\'s division behavior. The / operator is integer division if both operands are integers, and floating-point division otherwise. Integer division rounds towards 0, e.g. 7/3 == 2 and -7/3 == -2.\\nIn Python terms, / is true division (or simply division), and // is floor division. / before version 3.0 is classic division.[104]\\n\\nRounding towards negative infinity, though different from most languages, adds consistency. For instance, it means that the equation (a + b)//b == a//b + 1 is always true. It also means that the equation b*(a//b) + a%b == a is valid for both positive and negative values of a. However, maintaining the validity of this equation means that while the result of a%b is, as expected, in the half-open interval [0, b), where b is a positive integer, it has to lie in the interval (b, 0] when b is negative.[105]\\n\\nPython provides a round function for rounding a float to the nearest integer. For tie-breaking, Python 3 uses round to even: round(1.5) and round(2.5) both produce 2.[106] Versions before 3 used round-away-from-zero: round(0.5) is 1.0, round(-0.5) is −1.0.[107]\\n\\nPython allows boolean expressions with multiple equality relations in a manner that is consistent with general use in mathematics. For example, the expression a < b < c tests whether a is less than b and b is less than c.[108] C-derived languages interpret this expression differently: in C, the expression would first evaluate a < b, resulting in 0 or 1, and that result would then be compared with c.[109]\\n\\nPython uses arbitrary-precision arithmetic for all integer operations. The Decimal type/class in the decimal module provides decimal floating-point numbers to a pre-defined arbitrary precision and several rounding modes.[110] The Fraction class in the fractions module provides arbitrary precision for rational numbers.[111]\\n\\nDue to Python\\'s extensive mathematics library, and the third-party library NumPy that further extends the native capabilities, it is frequently used as a scientific scripting language to aid in problems such as numerical data processing and manipulation.[112][113]\\nProgramming examples\\nHello world program:\\n\\nprint(\\'Hello, world!\\')\\nProgram to calculate the factorial of a positive integer:\\n\\nn = int(input(\\'Type a number, and its factorial will be printed: \\'))\\n\\nif n < 0:\\n    raise ValueError(\\'You must enter a non-negative integer\\')\\n\\nfactorial = 1\\nfor i in range(2, n + 1):\\n    factorial *= i\\n\\nprint(factorial)\\nLibraries\\nPython\\'s large standard library, commonly cited as one of its greatest strengths,[114] provides tools suited to many tasks. For Internet-facing applications, many standard formats and protocols such as MIME and HTTP are supported. It includes modules for creating graphical user interfaces, connecting to relational databases, generating pseudorandom numbers, arithmetic with arbitrary-precision decimals,[115] manipulating regular expressions, and unit testing.\\n\\nSome parts of the standard library are covered by specifications (for example, the Web Server Gateway Interface (WSGI) implementation wsgiref follows PEP 333[116]), but most modules are not. They are specified by their code, internal documentation, and test suites. However, because most of the standard library is cross-platform Python code, only a few modules need altering or rewriting for variant implementations.\\n\\nAs of September 2021, the Python Package Index (PyPI), the official repository for third-party Python software, contains over 329,000[117] packages with a wide range of functionality, including:\\n\\nAutomation\\nData analytics\\nDatabases\\nDocumentation\\nGraphical user interfaces\\nImage processing\\nMachine learning\\nMobile App\\nMultimedia\\nComputer networking\\nScientific computing\\nSystem administration\\nTest frameworks\\nText processing\\nWeb frameworks\\nWeb scraping\\nDevelopment environments\\nSee also: Comparison of integrated development environments § Python\\nMost Python implementations (including CPython) include a read–eval–print loop (REPL), permitting them to function as a command line interpreter for which the user enters statements sequentially and receives results immediately.\\n\\nOther shells, including IDLE and IPython, add further abilities such as improved auto-completion, session state retention and syntax highlighting.\\n\\nAs well as standard desktop integrated development environments, there are Web browser-based IDEs; SageMath (intended for developing science and math-related Python programs); PythonAnywhere, a browser-based IDE and hosting environment; and Canopy IDE, a commercial Python IDE emphasizing scientific computing.[118]\\nنيوبملمينبل\\nImplementations\\nSee also: List of Python software § Python implementations\\nReference implementation\\nCPython is the reference implementation of Python. It is written in C, meeting the C89 standard with several select C99 features (with later C versions out, it\\'s considered outdated;[119][120] CPython includes its own C extensions, but third-party extensions are not limited to older C versions, can e.g. be implemented with C11 or C++[121]).[122] It compiles Python programs into an intermediate bytecode[123] which is then executed by its virtual machine.[124] CPython is distributed with a large standard library written in a mixture of C and native Python. It is available for many platforms, including Windows (starting with Python 3.9, the Python installer deliberately fails to install on Windows 7 and 8;[125][126] Windows XP was supported until Python 3.5) and most modern Unix-like systems, including macOS (and Apple M1 Macs, since Python 3.9.1, with experimental installer) and unofficial support for e.g. VMS.[127] Platform portability was one of its earliest priorities,[128] during the Python 1 and Python 2 time-frame, even OS/2 and Solaris were supported;[129] support has since been dropped for a lot of platforms.\\n\\nOther implementations\\nPyPy is a fast, compliant interpreter of Python 2.7 and 3.6.[130] Its just-in-time compiler brings a significant speed improvement over CPython but several libraries written in C cannot be used with it.[131]\\nStackless Python is a significant fork of CPython that implements microthreads; it does not use the call stack in the same way, thus allowing massively concurrent programs. PyPy also has a stackless version.[132]\\nMicroPython and CircuitPython are Python 3 variants optimized for microcontrollers, including Lego Mindstorms EV3.[133]\\nPyston is a variant of the Python runtime that uses just-in-time compilation to speed up the execution of Python programs.[134]\\nCinder is a performance-oriented fork of CPython 3.8 that contains a number of optimizations including bytecode inline caching, eager evaluation of coroutines, a method-at-a-time JIT and an experimental bytecode compiler.[135]\\nUnsupported implementations\\nOther just-in-time Python compilers have been developed, but are now unsupported:\\n\\nGoogle began a project named Unladen Swallow in 2009, with the aim of speeding up the Python interpreter fivefold by using the LLVM, and of improving its multithreading ability to scale to thousands of cores,[136] while ordinary implementations suffer from the global interpreter lock.\\nPsyco is a discontinued just-in-time specializing compiler that integrates with CPython and transforms bytecode to machine code at runtime. The emitted code is specialized for certain data types and is faster than the standard Python code. Psyco does not support Python 2.7 or later.\\nPyS60 was a Python 2 interpreter for Series 60 mobile phones released by Nokia in 2005. It implemented many of the modules from the standard library and some additional modules for integrating with the Symbian operating system. The Nokia N900 also supports Python with GTK widget libraries, enabling programs to be written and run on the target device.[137]\\nCross-compilers to other languages\\nThere are several compilers to high-level object languages, with either unrestricted Python, a restricted subset of Python, or a language similar to Python as the source language:\\n\\nCython compiles (a superset of) Python 2.7 to C (while the resulting code is also usable with Python 3 and also e.g. C++).\\nNuitka compiles Python into C++.[138]\\nPythran compiles a subset of Python 3 to C++.[139][140][141]\\nPyrex (latest release in 2010) and Shed Skin (latest release in 2013) compile to C and C++ respectively.\\nGoogle\\'s Grumpy (latest release in 2017) transpiles Python 2 to Go.[142][143][144]\\nIronPython (now abandoned by Microsoft) allows running Python 2.7 programs on the .NET Common Language Runtime.[145]\\nJython compiles Python 2.7 to Java bytecode, allowing the use of the Java libraries from a Python program.[146]\\nMyHDL is a Python-based hardware description language (HDL), that converts MyHDL code to Verilog or VHDL code.\\nNumba uses LLVM to compile a subset of Python to machine code.\\nBrython,[147] Transcrypt[148][149] and Pyjs (latest release in 2012) compile Python to JavaScript.\\nRPython can be compiled to C, and is used to build the PyPy interpreter of Python.\\nPerformance\\nA performance comparison of various Python implementations on a non-numerical (combinatorial) workload was presented at EuroSciPy \\'13.[150] Python\\'s performance compared to other programming languages is also benchmarked by The Computer Language Benchmarks Game.[151]\\n\\nDevelopment\\nPython\\'s development is conducted largely through the Python Enhancement Proposal (PEP) process, the primary mechanism for proposing major new features, collecting community input on issues and documenting Python design decisions.[152] Python coding style is covered in PEP 8.[153] Outstanding PEPs are reviewed and commented on by the Python community and the steering council.[152]\\n\\nEnhancement of the language corresponds with development of the CPython reference implementation. The mailing list python-dev is the primary forum for the language\\'s development. Specific issues are discussed in the Roundup bug tracker hosted at bugs.python.org.[154] Development originally took place on a self-hosted source-code repository running Mercurial, until Python moved to GitHub in January 2017.[155]\\n\\nCPython\\'s public releases come in three types, distinguished by which part of the version number is incremented:\\n\\nBackward-incompatible versions, where code is expected to break and needs to be manually ported. The first part of the version number is incremented. These releases happen infrequently—version 3.0 was released 8 years after 2.0.\\nMajor or \"feature\" releases, occurred about every 18 months but with the adoption of a yearly release cadence starting with Python 3.9 are expected to happen once a year.[156][157] They are largely compatible but introduce new features. The second part of the version number is incremented. Each major version is supported by bugfixes for several years after its release.[158]\\nBugfix releases,[159] which introduce no new features, occur about every 3 months and are made when a sufficient number of bugs have been fixed upstream since the last release. Security vulnerabilities are also patched in these releases. The third and final part of the version number is incremented.[159]\\nMany alpha, beta, and release-candidates are also released as previews and for testing before final releases. Although there is a rough schedule for each release, they are often delayed if the code is not ready. Python\\'s development team monitors the state of the code by running the large unit test suite during development.[160]\\n\\nThe major academic conference on Python is PyCon. There are also special Python mentoring programmes, such as Pyladies.\\n\\nPython 3.10 deprecates wstr (to be removed in Python 3.12; meaning Python extensions[161] need to be modified by then),[162] and also plans to add pattern matching to the language.[163]\\n\\nAPI documentation generators\\nTools that can generate documentation for Python API include pydoc (available as part of standard library), Sphinx, Pdoc and its forks, Doxygen and Graphviz, among others.[164]\\n\\nNaming\\nPython\\'s name is derived from the British comedy group Monty Python, whom Python creator Guido van Rossum enjoyed while developing the language. Monty Python references appear frequently in Python code and culture;[165] for example, the metasyntactic variables often used in Python literature are spam and eggs instead of the traditional foo and bar.[165][166] The official Python documentation also contains various references to Monty Python routines.[167][168]\\n\\nThe prefix Py- is used to show that something is related to Python. Examples of the use of this prefix in names of Python applications or libraries include Pygame, a binding of SDL to Python (commonly used to create games); PyQt and PyGTK, which bind Qt and GTK to Python respectively; and PyPy, a Python implementation originally written in Python.\\n\\nPopularity\\nSince 2003, Python has consistently ranked in the top ten most popular programming languages in the TIOBE Programming Community Index where, as of February 2021, it is the third most popular language (behind Java, and C).[169] It was selected Programming Language of the Year (for \"the highest rise in ratings in a year\") in 2007, 2010, 2018, and 2020 (the only language to do so four times[170]).[171]\\n\\nAn empirical study found that scripting languages, such as Python, are more productive than conventional languages, such as C and Java, for programming problems involving string manipulation and search in a dictionary, and determined that memory consumption was often \"better than Java and not much worse than C or C++\".[172]\\n\\nLarge organizations that use Python include Wikipedia, Google,[173] Yahoo!,[174] CERN,[175] NASA,[176] Facebook,[177] Amazon, Instagram,[178] Spotify[179] and some smaller entities like ILM[180] and ITA.[181] The social news networking site Reddit was written mostly in Python.[182]\\n_________________________________________\\nstackoverflow blog stackoverflow blog stackoverflow blog\\nHere\\'s a collection of resources on how to get started using Python.\\n\\nGetting started with… Python\\nIn this series, we look at the most loved languages according to the Stack Overflow developer survey, examine the spread and use cases for each of them, and collect some essential links on how to get started using the language. Up now, #3 on our list: Python.\\n\\nPython is consistently featured amongst the top most loved languages in our Developer Survey. In 2020, 66.7% of respondents said they want to keep working with Python. Conceived in the late 80s, it’s one of the older languages on our list, coming just below newcomers Rust (2010) and TypeScript (2012)—evidence that original designer Guido van Rossum got a lot right.\\nPython’s quirky name—in honor of the cult comedy show, Monty Python—belies the fact that this is a hugely expressive language. While it’s not primarily used for performance-intensive programming, it’s often highly efficient to write, and programs tend to be clear and readable. This makes it ideally suited for applications like data science and web development, and it’s used in a wide range of fields, from healthcare and finance to VFX and AI.\\n\\nSome  regard it as an ideal language for beginners: many terms are expressed using English words rather than symbols, its strict rules about whitespace mean all programs are visually consistent, and code written in Python is often more concise than the equivalent in other languages.\\nHistory of use\\nTrending tags on Stackoverflow.com\\n\\nAlthough Python has been around since the 1.0 release in 1991, its usage has ballooned in recent years. Indeed, as our former data scientist David Robinson noted, since 2012, it has risen above the five other major languages (C++, PHP, Java, JavaScript and C#) in usage as estimated by the number of Stack Overflow question views per month. TIOBE’s 2021 index ranks Python as third in popularity at 10.86%, rapidly gaining on C and Java (16.34% and 11.29% respectively). Today, 44 % of developers and technologists around the world are using Python. \\n\\nUntil recently the language design and development was lead by a single person—Dutch computer scientist Guido van Rossum, who stepped down as Python’s “Benevolent Dictator For Life” in 2018 but has remained an active contributor to this day.\\n\\nWho is using it?\\nPython is more or less ubiquitous—it would be faster to list industries that don’t use it in some form. While it’s not the language of choice for consumer applications like   games or mobile apps, even companies developing these applications frequently use Python for tools and utilities. It is also commonly embedded into software products for automation and scripting purposes—for example, in the VFX field, nearly all of the major software packages (Maya, 3Ds Max, Houdini, Cinema 4D, Blender, and Nuke) have embedded Python interpreters, allowing users to add functionality or automate tasks. It’s used more or less everywhere on Earth and, well, even on Mars.\\n\\nIn fact, if you’re reading this on a Mac, you already have Python installed on your computer—just go to Terminal, type ‘python’, and away you go…\\n\\nWho is it for?\\nStudents\\nThe use of short English keywords instead of symbols makes Python particularly friendly for beginners. See the example below.\\n\\nAdditionally, Python handles a lot of memory management automatically, so you’ll spend less time dealing with pointers and references and so on than in a language like C++.\\n\\nIt comes bundled with a free IDE (integrated development environment), IDLE, so you can get started quickly. In case you’re wondering, yes, IDLE is a reference to Monty Python’s Eric Idle—if you use Python you’re going to be bombarded with references to vintage British comedy.\\n\\nDevelopers who prioritize ease of programming over execution speed\\nWhile Python typically runs slower than other common languages like C++ or Java, it’s often much quicker to write—indeed, some estimates suggest a typical program in Python is three to five times shorter than its Java equivalent and five to ten times shorter than the C++ version.\\n\\nThis is one of the reasons it’s often used as a “support language”—software developers rely on it for tasks like build control, automated testing, and bug tracking. For the same reason, it’s also used for prototyping—code can be “hacked together” quickly to test ideas, before perhaps rewriting in a more performant language.\\n\\nDevelopers working with text or numbers\\nPython’s powerful String and List manipulation functions make it a great choice for anyone working with text or numbers. And it’s a great tool for exploring data. \\n\\nThe fact that it doesn’t need compiling means you can rapidly iterate on a program, and, by running Python interactively, you can intuitively manipulate data step-by-step, examining it at each stage.\\n\\nPython’s core functionality can be extended with a huge arsenal of ‘packages’, many of which are widely used by the scientific and academic communities, as well as fintech and engineering. These include the venerable NumPy (mathematical functions and data analysis), SciPy (for science), Matplotlib (data visualization) and Pandas (data analysis), and more recently TensorFlow and Keras (Machine Learning/AI), as well as tens of thousands of others.\\n\\nWeb developers\\nAnother key area of Python use is backend development. It has built-in support for common protocols like HTML, XML, and JSON, and frameworks like Django, Flask, and Bottle are used widely—for example, Reddit’s backend is Python. Python powers advanced content management, email automation, and more.\\n\\nWhy you shouldn’t learn it\\nThere’s a lot to like about Python, but it’s not always the perfect tool for the job.\\n\\nPerhaps most importantly, Python is an interpreted language, as opposed to a compiled language like C++. While that means there’s no sitting around waiting for your code to compile, it also means the computer has to do extra work every time the program runs, inherently limiting performance. So you’re probably not going to be writing the next blockbuster 60FPS first-person shooter in Python, but it’s perfect for situations like data manipulation where you’re likely to spend more time writing the program than running it.\\n\\nAdditionally, Python’s somewhat unusual syntax means that—if it’s your first language—not all of the knowledge you gain will be transferable to other languages, although many of the underlying concepts are identical. For example, the reduced reliance on brackets and braces, the use of English words instead of symbols, and the enforced usage of whitespace mean that a program in Python may be visually structured in a very different way to the equivalent code in Java or C++.\\n\\nHowever, these downsides are often a small price to pay for the many benefits, as evidenced by its ubiquity.\\n\\nKey concepts\\nThe core philosophies are summarized—in Pythonic fashion—in “The Zen Of Python.” These include:\\n\\n“Readability counts\\nSimple is better than complex\\nThere should be one—and preferably only one—obvious way to do it”\\nIn case you were wondering, The Zen Of Python is available in catchy musical form here.\\n\\nResources\\nOfficial\\nThe official tutorial is a quick primer on all the basics, perfect for getting up and running quickly.\\nThe Python language reference provides full documentation in a no-nonsense manner that is “terse, but attempts to be exact and complete.”\\nFollowing the official PEP-8 Style Guide will make your code more readable to other programmers, including the most crucial audience of all—your future self.  \\nThe official site also offers an enormous wealth of information, tutorials, and also features curated content in dozens of languages.\\nEntry-level\\nLearnPython.org offers a quick, well-thought-out series of basic lessons, and provides a friendly browser-based Python interface to experiment with.\\nCode The Blocks provides an engaging series of beginner exercises, using a browser-based Python interpreter to manipulate a 3D scene.\\nFreeCodeCamp.org offers a free video course that will take you from novice to intermediate in four hours.\\nThe classic How to Think Like a Computer Scientist is available in a Python 3 edition that will get you up to speed on Python syntax while providing insights that will be valuable in any language.\\nWhile not Python-exclusive, Project Euler offers a set of challenges that are perfect for flexing your new-found Python muscles. The site is a sequence of over 700 mathematical puzzles, to which the answer is always a single integer, and the problems range from the trivial to the extremely difficult. You can of course find hints and tips on Stack Overflow—no cheating though!\\nProject Rosalind offers a similarly structured set of problems—this time from the field of Bioinformatics—that function as both an introduction to Python and molecular biology.\\nAdvanced\\nالااالالا- الاالااابل\\nننانلانم لاملن  مالمانى ممنللاللان منبللا \\nThe Hitchhiker’s Guide to Python! A hands-on guide for prob \\nMoving To Python From Other Languages offers a quick guide to Python concepts and gotchas.\\nRafe Kettler’s A Guide to Python’s Magic Methods offers a detailed explanation of “Magic Methods”—the Python-specific built-in functions like `__init__()` that you may have been using without even thinking about\\nPython is generally considered to be simple to learn if you already understand the general concepts of programming… although Learn Python in 10 Minutes is a pretty bold claim!\\nOther resources\\nIf you didn’t have time for the 10 minutes one, how about Learn Python in 5 Minutes? It actually runs over by a minute or so, but it’s still a pretty impressive speedrun of the basics.\\n20004684\\n1000 \\nkmfdlv@gmail.com\\nlfkmdlf@yahoo.com\\nkskmd_lkfsdf@yahoo.com\\n$10 million dollars, in 1999 and in 10-19-2021 [11]\\n\\n\\n\\n\\n'"
      ]
     },
     "execution_count": 3,
     "metadata": {},
     "output_type": "execute_result"
    }
   ],
   "source": [
    "data"
   ]
  },
  {
   "cell_type": "code",
   "execution_count": 29,
   "id": "cc474dc4",
   "metadata": {},
   "outputs": [
    {
     "name": "stdout",
     "output_type": "stream",
     "text": [
      "python programming language\n",
      "from wikipedia, the free encyclopedia\n",
      "python is an interpreted highlevel generalpurpose programming language. its design philosophy emphasizes code readability with its use of significant indentation. its language constructs as well as its objectoriented approach aim to help programmers write clear, logical code for small and largescale projects.\n",
      "\n",
      "python is dynamicallytyped and garbagecollected. it supports multiple programming paradigms, including structured particularly, procedural, objectoriented and functional programming. it is often described as a batteries included language due to its comprehensive standard library.\n",
      "\n",
      "guido van rossum began working on python in the late s, as a successor to the abc programming language, and first released it in  as python. python. was released in  and introduced new features, such as list comprehensions and a garbage collection system using reference counting. python. was released in  and was a major revision of the language that is not completely backwardcompatible. python  was discontinued with version. in.\n",
      "\n",
      "python consistently ranks as one of the most popular programming languages.\n",
      "history\n",
      "python was conceived in the late s by guido van rossum at centrum wiskunde  informatica cwi in the netherlands as a successor to abc programming language, which was inspired by setl, capable of exception handling and interfacing with the amoeba operating system. its implementation began in december. van rossum shouldered sole responsibility for the project, as the lead developer, until  july, when he announced his permanent vacation from his responsibilities as python's benevolent dictator for life, a title the python community bestowed upon him to reflect his longterm commitment as the project's chief decisionmaker. in january, active python core developers elected a fivemember steering council to lead the project.\n",
      "\n",
      "python. was released on  october, with many major new features, including a cycledetecting garbage collector and support for unicode.\n",
      "\n",
      "python. was released on  december. it was a major revision of the language that is not completely backwardcompatible. many of its major features were backported to python.x and.x version series. releases of python  include the to utility, which automates the translation of python  code to python.\n",
      "\n",
      "python.'s endoflife date was initially set at  then postponed to  out of concern that a large body of existing code could not easily be forwardported to python. no more security patches or other improvements will be released for it. with python 's endoflife, only python.x and later are supported.\n",
      "\n",
      "python. and. were expedited as all versions of python including. had security issues, leading to possible remote code execution and web cache poisoning.\n",
      "\n",
      "design philosophy and features\n",
      "python is a multiparadigm programming language. objectoriented programming and structured programming are fully supported, and many of its features support functional programming and aspectoriented programming including by metaprogramming and metaobjects magic methods. many other paradigms are supported via extensions, including design by contract and logic programming.\n",
      "\n",
      "python uses dynamic typing and a combination of reference counting and a cycledetecting garbage collector for memory management. it also features dynamic name resolution late binding, which binds method and variable names during program execution.\n",
      "\n",
      "python's design offers some support for functional programming in the lisp tradition. it has filter,mapandreduce functions list comprehensions, dictionaries, sets, and generator expressions. the standard library has two modules itertools and functools that implement functional tools borrowed from haskell and standard ml.\n",
      "\n",
      "the language's core philosophy is summarized in the document the zen of python pep, which includes aphorisms such as\n",
      "\n",
      "beautiful is better than ugly.\n",
      "explicit is better than implicit.\n",
      "simple is better than complex.\n",
      "complex is better than complicated.\n",
      "readability counts.\n",
      "rather than having all of its functionality built into its core, python was designed to be highly extensible with modules. this compact modularity has made it particularly popular as a means of adding programmable interfaces to existing applications. van rossum's vision of a small core language with a large standard library and easily extensible interpreter stemmed from his frustrations with abc, which espoused the opposite approach. it is often described as a batteries included language due to its comprehensive standard library.\n",
      "\n",
      "python strives for a simpler, lesscluttered syntax and grammar while giving developers a choice in their coding methodology. in contrast to perl's there is more than one way to do it motto, python embraces a there should be one and preferably only one obvious way to do it design philosophy. alex martelli, a fellow at the python software foundation and python book author, writes that to describe something as 'clever' is not considered a compliment in the python culture.\n",
      "\n",
      "python's developers strive to avoid premature optimization, and reject patches to noncritical parts of the cpython reference implementation that would offer marginal increases in speed at the cost of clarity. when speed is important, a python programmer can move timecritical functions to extension modules written in languages such as c, or use pypy, a justintime compiler. cython is also available, which translates a python script into c and makes direct clevel api calls into the python interpreter.\n",
      "\n",
      "python's developers aim for the language to be fun to use. this is reflected in its namea tribute to the british comedy group monty pythonand in occasionally playful approaches to tutorials and reference materials, such as examples that refer to spam and eggs a reference to a monty python sketch instead of the standard foo and bar.\n",
      "\n",
      "a common neologism in the python community is pythonic, which can have a wide range of meanings related to program style. to say that code is pythonic is to say that it uses python idioms well, that it is natural or shows fluency in the language, that it conforms with python's minimalist philosophy and emphasis on readability. in contrast, code that is difficult to understand or reads like a rough transcription from another programming language is called unpythonic.\n",
      "\n",
      "users and admirers of python, especially those considered knowledgeable or experienced, are often referred to as pythonistas.\n",
      "\n",
      "syntax and semantics\n",
      "main article python syntax and semantics\n",
      "python is meant to be an easily readable language. its formatting is visually uncluttered, and it often uses english keywords where other languages use punctuation. unlike many other languages, it does not use curly brackets to delimit blocks, and semicolons after statements are allowed but are rarely, if ever, used. it has fewer syntactic exceptions and special cases than c or pascal.\n",
      "\n",
      "indentation\n",
      "main article python syntax and semantics  indentation\n",
      "python uses whitespace indentation, rather than curly brackets or keywords, to delimit blocks. an increase in indentation comes after certain statements a decrease in indentation signifies the end of the current block. thus, the program's visual structure accurately represents the program's semantic structure. this feature is sometimes termed the offside rule, which some other languages share, but in most languages indentation does not have any semantic meaning. the recommended indent size is four spaces.\n",
      "\n",
      "statements and control flow\n",
      "python's statements include among others\n",
      "\n",
      "the assignment statement, using a single equals sign.\n",
      "the if statement, which conditionally executes a block of code, along with else and elif a contraction of elseif.\n",
      "the for statement, which iterates over an iterable object, capturing each element to a local variable for use by the attached block.\n",
      "the while statement, which executes a block of code as long as its condition is true.\n",
      "the try statement, which allows exceptions raised in its attached code block to be caught and handled by except clauses it also ensures that cleanup code in a finally block will always be run regardless of how the block exits.\n",
      "the raise statement, used to raise a specified exception or reraise a caught exception.\n",
      "the class statement, which executes a block of code and attaches its local namespace to a class, for use in objectoriented programming.\n",
      ". \n",
      "the def statement, which defines a function or method.\n",
      "the with statement, which encloses a code block within a context manager for example, acquiring a lock before the block of code is run and releasing the lock afterwards, or opening a file and then closing it, allowing resourceacquisitionisinitialization raiilike behavior and replaces a common tryfinally idiom.\n",
      "the break statement, exits from a loop.\n",
      "the continue statement, skips this iteration and continues with the next item.\n",
      "the del statement, removes a variable, which means the reference from the name to the value is deleted and trying to use that variable will cause an error. a deleted variable can be reassigned.\n",
      "the pass statement, which serves as a nop. it is syntactically needed to create an empty code block.\n",
      "the assert statement, used during debugging to check for conditions that should apply.\n",
      "the yield statement, which returns a value from a generator function and yield is also an operator. this form is used to implement coroutines.\n",
      "the return statement, used to return a value from a function.\n",
      "the import statement, which is used to import modules whose functions or variables can be used in the current program.\n",
      "the assignment statement  operates by binding a name as a reference to a separate, dynamicallyallocated object. variables may subsequently be rebound at any time to any object. in python, a variable name is a generic reference holder and does not have a fixed data type associated with it. however, at a given time, a variable will refer to some object, which will have a type. this is referred to as dynamic typing and is contrasted with staticallytyped programming languages, where each variable may only contain values of a certain type.\n",
      "\n",
      "python does not support tail call optimization or firstclass continuations, and, according to guido van rossum, it never will. however, better support for coroutinelike functionality is provided, by extending python's generators. before., generators were lazy iterators information was passed unidirectionally out of the generator. from python., it is possible to pass information back into a generator function, and from python., the information can be passed through multiple stack levels.\n",
      "\n",
      "expressions\n",
      "some python expressions are similar to those found in languages such as c and java, while some are not\n",
      "\n",
      "addition, subtraction, and multiplication are the same, but the behavior of division differs. there are two types of divisions in python. they are floor division or integer division  and floatingpointdivision. python also uses the  operator for exponentiation.\n",
      "from python., the new  infix operator was introduced. it is intended to be used by libraries such as numpy for matrix multiplication.\n",
      "from python., the syntax, called the 'walrus operator' was introduced. it assigns values to variables as part of a larger expression.\n",
      "in python,  compares by value, versus java, which compares numerics by value and objects by reference. value comparisons in java on objects can be performed with the equals method. python's is operator may be used to compare object identities comparison by reference. in python, comparisons may be chained, for example a  b  c.\n",
      "python uses the words and, or, not for its boolean operators rather than the symbolic,  used in java and c.\n",
      "python has a type of expression termed a list comprehension as well as a more general expression termed a generator expression.\n",
      "anonymous functions are implemented using lambda expressions however, these are limited in that the body can only be one expression.\n",
      "conditional expressions in python are written as x if c else y different in order of operands from the c  x  y operator common to many other languages.\n",
      "python makes a distinction between lists and tuples. lists are written as, are mutable, and cannot be used as the keys of dictionaries dictionary keys must be immutable in python. tuples are written as, are immutable and thus can be used as the keys of dictionaries, provided all elements of the tuple are immutable. the + operator can be used to concatenate two tuples, which does not directly modify their contents, but rather produces a new tuple containing the elements of both provided tuples. thus, given the variable t initially equal to, executing t  t +,  first evaluates t +, which yields, which is then assigned back to t, thereby effectively modifying the contents of t, while conforming to the immutable nature of tuple objects. parentheses are optional for tuples in unambiguous contexts.\n",
      "python features sequence unpacking wherein multiple expressions, each evaluating to anything that can be assigned to a variable, a writable property, etc., are associated in an identical manner to that forming tuple literals and, as a whole, are put on the lefthand side of the equal sign in an assignment statement. the statement expects an iterable object on the righthand side of the equal sign that produces the same number of values as the provided writable expressions when iterated through and will iterate through it, assigning each of the produced values to the corresponding expression on the left.\n",
      "python has a string format operator. this functions analogously to printf format strings in c, e.g. spams eggsd  blah,  evaluates to spamblah eggs. in python  and.+, this was supplemented by the format method of the str class, e.g. spam eggs.formatblah,. python. added fstrings blah  blah eggs   f'spamblah eggseggs'.\n",
      "strings in python can be concatenated, by adding them same operator as for adding integers and floats. e.g. spam + eggs returns spameggs. even if your strings contain numbers, they are still added as strings rather than integers. e.g.  +  returns.\n",
      "python has various kinds of string literals\n",
      "strings delimited by single or double quote marks. unlike in unix shells, perl and perlinfluenced languages, single quote marks and double quote marks function identically. both kinds of string use the backslash \\ as an escape character. string interpolation became available in python. as formatted string literals.\n",
      "triplequoted strings, which begin and end with a series of three single or double quote marks. they may span multiple lines and function like here documents in shells, perl and ruby.\n",
      "raw string varieties, denoted by prefixing the string literal with an r. escape sequences are not interpreted hence raw strings are useful where literal backslashes are common, such as regular expressions and windowsstyle paths. compare quoting in c#.\n",
      "python has array index and array slicing expressions on lists, denoted as akey, astartstop or astartstopstep. indexes are zerobased, and negative indexes are relative to the end. slices take elements from the start index up to, but not including, the stop index. the third slice parameter, called step or stride, allows elements to be skipped and reversed. slice indexes may be omitted, for example a returns a copy of the entire list. each element of a slice is a shallow copy.\n",
      "in python, a distinction between expressions and statements is rigidly enforced, in contrast to languages such as common lisp, scheme, or ruby. this leads to duplicating some functionality. for example\n",
      "\n",
      "list comprehensions vs. forloops\n",
      "conditional expressions vs. if blocks\n",
      "the eval vs. exec builtin functions in python, exec is a statement the former is for expressions, the latter is for statements.\n",
      "statements cannot be a part of an expression, so list and other comprehensions or lambda expressions, all being expressions, cannot contain statements. a particular case of this is that an assignment statement such as a   cannot form part of the conditional expression of a conditional statement. this has the advantage of avoiding a classic c error of mistaking an assignment operator  for an equality operator  in conditions if c.  is syntactically valid but probably unintended c code but if c. causes a syntax error in python.\n",
      "\n",
      "methods\n",
      "methods on objects are functions attached to the object's class the syntax instance.methodargument is, for normal methods and functions, syntactic sugar for class.methodinstance, argument. python methods have an explicit self parameter to access instance data, in contrast to the implicit self or this in some other objectoriented programming languages e.g., c++, java, objectivec, or ruby. apart from this, python also provides methods, often called dunder methods due to their names beginning and ending with doubleunderscores, to allow userdefined classes to modify how they are handled by native operations such as length, comparison, in arithmetic operations, type conversion, and many more.\n",
      "\n",
      "typing\n",
      "python uses duck typing and has typed objects but untyped variable names. type constraints are not checked at compile time rather, operations on an object may fail, signifying that the given object is not of a suitable type. despite being dynamicallytyped, python is stronglytyped, forbidding operations that are not welldefined for example, adding a number to a string rather than silently attempting to make sense of them.\n",
      "\n",
      "python allows programmers to define their own types using classes, which are most often used for objectoriented programming. new instances of classes are constructed by calling the class for example, spamclass or eggsclass, and the classes are instances of the metaclass type itself an instance of itself, allowing metaprogramming and reflection.\n",
      "\n",
      "before version., python had two kinds of classes oldstyle and newstyle. the syntax of both styles is the same, the difference being whether the class object is inherited from, directly or indirectly all newstyle classes inherit from object and are instances of type. in versions of python  from python. onwards, both kinds of classes can be used. oldstyle classes were eliminated in python.\n",
      "\n",
      "the longterm plan is to support gradual typing and from python., the syntax of the language allows specifying static types but they are not checked in the default implementation, cpython. an experimental optional static type checker named mypy supports compiletime type checking.\n",
      "\n",
      "arithmetic operations\n",
      "python has the usual symbols for arithmetic operators +, the floor division operator  and the modulo operation  where the remainder can be negative, e.g. it also has  for exponentiation, e.g.    and., and a matrix‑multiplication operator. these operators work like in traditional math with the same precedence rules, the operators infix + and  can also be unary to represent positive and negative numbers respectively.\n",
      "\n",
      "the division between integers produces floatingpoint results. the behavior of division has changed significantly over time\n",
      "\n",
      "current python i.e. since. changed  to always be floatingpoint division, e.g.\n",
      "python. changed integer division to round towards negative infinity, e.g.    and. the floor division  operator was introduced. so,. and. adding from future import division causes a module to use python. rules for division see next.\n",
      "python. and earlier used c's division behavior. the  operator is integer division if both operands are integers, and floatingpoint division otherwise. integer division rounds towards, e.g.    and.\n",
      "in python terms,  is true division or simply division, and  is floor division.  before version. is classic division.\n",
      "\n",
      "rounding towards negative infinity, though different from most languages, adds consistency. for instance, it means that the equation a + bb  ab +  is always true. it also means that the equation bab + ab  a is valid for both positive and negative values of a. however, maintaining the validity of this equation means that while the result of ab is, as expected, in the halfopen interval, b, where b is a positive integer, it has to lie in the interval b,  when b is negative.\n",
      "\n",
      "python provides a round function for rounding a float to the nearest integer. for tiebreaking, python  uses round to even round. and round. both produce. versions before  used roundawayfromzero round. is., round. is −.\n",
      "\n",
      "python allows boolean expressions with multiple equality relations in a manner that is consistent with general use in mathematics. for example, the expression a  b  c tests whether a is less than b and b is less than c. cderived languages interpret this expression differently in c, the expression would first evaluate a  b, resulting in  or, and that result would then be compared with c.\n",
      "\n",
      "python uses arbitraryprecision arithmetic for all integer operations. the decimal typeclass in the decimal module provides decimal floatingpoint numbers to a predefined arbitrary precision and several rounding modes. the fraction class in the fractions module provides arbitrary precision for rational numbers.\n",
      "\n",
      "due to python's extensive mathematics library, and the thirdparty library numpy that further extends the native capabilities, it is frequently used as a scientific scripting language to aid in problems such as numerical data processing and manipulation.\n",
      "programming examples\n",
      "hello world program\n",
      "\n",
      "print'hello, world'\n",
      "program to calculate the factorial of a positive integer\n",
      "\n",
      "n  intinput'type a number, and its factorial will be printed '\n",
      "\n",
      "if n  \n",
      "    raise valueerror'you must enter a nonnegative integer'\n",
      "\n",
      "factorial  \n",
      "for i in range, n + \n",
      "    factorial  i\n",
      "\n",
      "printfactorial\n",
      "libraries\n",
      "python's large standard library, commonly cited as one of its greatest strengths, provides tools suited to many tasks. for internetfacing applications, many standard formats and protocols such as mime and http are supported. it includes modules for creating graphical user interfaces, connecting to relational databases, generating pseudorandom numbers, arithmetic with arbitraryprecision decimals, manipulating regular expressions, and unit testing.\n",
      "\n",
      "some parts of the standard library are covered by specifications for example, the web server gateway interface wsgi implementation wsgiref follows pep, but most modules are not. they are specified by their code, internal documentation, and test suites. however, because most of the standard library is crossplatform python code, only a few modules need altering or rewriting for variant implementations.\n",
      "\n",
      "as of september, the python package index pypi, the official repository for thirdparty python software, contains over, packages with a wide range of functionality, including\n",
      "\n",
      "automation\n",
      "data analytics\n",
      "databases\n",
      "documentation\n",
      "graphical user interfaces\n",
      "image processing\n",
      "machine learning\n",
      "mobile app\n",
      "multimedia\n",
      "computer networking\n",
      "scientific computing\n",
      "system administration\n",
      "test frameworks\n",
      "text processing\n",
      "web frameworks\n",
      "web scraping\n",
      "development environments\n",
      "see also comparison of integrated development environments  python\n",
      "most python implementations including cpython include a read–eval–print loop repl, permitting them to function as a command line interpreter for which the user enters statements sequentially and receives results immediately.\n",
      "\n",
      "other shells, including idle and ipython, add further abilities such as improved autocompletion, session state retention and syntax highlighting.\n",
      "\n",
      "as well as standard desktop integrated development environments, there are web browserbased ides sagemath intended for developing science and mathrelated python programs pythonanywhere, a browserbased ide and hosting environment and canopy ide, a commercial python ide emphasizing scientific computing.\n",
      "\n",
      "implementations\n",
      "see also list of python software  python implementations\n",
      "reference implementation\n",
      "cpython is the reference implementation of python. it is written in c, meeting the c standard with several select c features with later c versions out, it's considered outdated cpython includes its own c extensions, but thirdparty extensions are not limited to older c versions, can e.g. be implemented with c or c++. it compiles python programs into an intermediate bytecode which is then executed by its virtual machine. cpython is distributed with a large standard library written in a mixture of c and native python. it is available for many platforms, including windows starting with python., the python installer deliberately fails to install on windows  and  windows xp was supported until python. and most modern unixlike systems, including macos and apple m macs, since python., with experimental installer and unofficial support for e.g. vms. platform portability was one of its earliest priorities, during the python  and python  timeframe, even os and solaris were supported support has since been dropped for a lot of platforms.\n",
      "\n",
      "other implementations\n",
      "pypy is a fast, compliant interpreter of python. and. its justintime compiler brings a significant speed improvement over cpython but several libraries written in c cannot be used with it.\n",
      "stackless python is a significant fork of cpython that implements microthreads it does not use the call stack in the same way, thus allowing massively concurrent programs. pypy also has a stackless version.\n",
      "micropython and circuitpython are python  variants optimized for microcontrollers, including lego mindstorms ev.\n",
      "pyston is a variant of the python runtime that uses justintime compilation to speed up the execution of python programs.\n",
      "cinder is a performanceoriented fork of cpython. that contains a number of optimizations including bytecode inline caching, eager evaluation of coroutines, a methodatatime jit and an experimental bytecode compiler.\n",
      "unsupported implementations\n",
      "other justintime python compilers have been developed, but are now unsupported\n",
      "\n",
      "google began a project named unladen swallow in, with the aim of speeding up the python interpreter fivefold by using the llvm, and of improving its multithreading ability to scale to thousands of cores, while ordinary implementations suffer from the global interpreter lock.\n",
      "psyco is a discontinued justintime specializing compiler that integrates with cpython and transforms bytecode to machine code at runtime. the emitted code is specialized for certain data types and is faster than the standard python code. psyco does not support python. or later.\n",
      "pys was a python  interpreter for series  mobile phones released by nokia in. it implemented many of the modules from the standard library and some additional modules for integrating with the symbian operating system. the nokia n also supports python with gtk widget libraries, enabling programs to be written and run on the target device.\n",
      "crosscompilers to other languages\n",
      "there are several compilers to highlevel object languages, with either unrestricted python, a restricted subset of python, or a language similar to python as the source language\n",
      "\n",
      "cython compiles a superset of python. to c while the resulting code is also usable with python  and also e.g. c++.\n",
      "nuitka compiles python into c++.\n",
      "pythran compiles a subset of python  to c++.\n",
      "pyrex latest release in  and shed skin latest release in  compile to c and c++ respectively.\n",
      "google's grumpy latest release in  transpiles python  to go.\n",
      "ironpython now abandoned by microsoft allows running python. programs on the.net common language runtime.\n",
      "jython compiles python. to java bytecode, allowing the use of the java libraries from a python program.\n",
      "myhdl is a pythonbased hardware description language hdl, that converts myhdl code to verilog or vhdl code.\n",
      "numba uses llvm to compile a subset of python to machine code.\n",
      "brython, transcrypt and pyjs latest release in  compile python to javascript.\n",
      "rpython can be compiled to c, and is used to build the pypy interpreter of python.\n",
      "performance\n",
      "a performance comparison of various python implementations on a nonnumerical combinatorial workload was presented at euroscipy '. python's performance compared to other programming languages is also benchmarked by the computer language benchmarks game.\n",
      "\n",
      "development\n",
      "python's development is conducted largely through the python enhancement proposal pep process, the primary mechanism for proposing major new features, collecting community input on issues and documenting python design decisions. python coding style is covered in pep. outstanding peps are reviewed and commented on by the python community and the steering council.\n",
      "\n",
      "enhancement of the language corresponds with development of the cpython reference implementation. the mailing list pythondev is the primary forum for the language's development. specific issues are discussed in the roundup bug tracker hosted at bugs.python.org. development originally took place on a selfhosted sourcecode repository running mercurial, until python moved to github in january.\n",
      "\n",
      "cpython's public releases come in three types, distinguished by which part of the version number is incremented\n",
      "\n",
      "backwardincompatible versions, where code is expected to break and needs to be manually ported. the first part of the version number is incremented. these releases happen infrequentlyversion. was released  years after.\n",
      "major or feature releases, occurred about every  months but with the adoption of a yearly release cadence starting with python. are expected to happen once a year. they are largely compatible but introduce new features. the second part of the version number is incremented. each major version is supported by bugfixes for several years after its release.\n",
      "bugfix releases, which introduce no new features, occur about every  months and are made when a sufficient number of bugs have been fixed upstream since the last release. security vulnerabilities are also patched in these releases. the third and final part of the version number is incremented.\n",
      "many alpha, beta, and releasecandidates are also released as previews and for testing before final releases. although there is a rough schedule for each release, they are often delayed if the code is not ready. python's development team monitors the state of the code by running the large unit test suite during development.\n",
      "\n",
      "the major academic conference on python is pycon. there are also special python mentoring programmes, such as pyladies.\n",
      "\n",
      "python. deprecates wstr to be removed in python. meaning python extensions need to be modified by then, and also plans to add pattern matching to the language.\n",
      "\n",
      "api documentation generators\n",
      "tools that can generate documentation for python api include pydoc available as part of standard library, sphinx, pdoc and its forks, doxygen and graphviz, among others.\n",
      "\n",
      "naming\n",
      "python's name is derived from the british comedy group monty python, whom python creator guido van rossum enjoyed while developing the language. monty python references appear frequently in python code and culture for example, the metasyntactic variables often used in python literature are spam and eggs instead of the traditional foo and bar. the official python documentation also contains various references to monty python routines.\n",
      "\n",
      "the prefix py is used to show that something is related to python. examples of the use of this prefix in names of python applications or libraries include pygame, a binding of sdl to python commonly used to create games pyqt and pygtk, which bind qt and gtk to python respectively and pypy, a python implementation originally written in python.\n",
      "\n",
      "popularity\n",
      "since, python has consistently ranked in the top ten most popular programming languages in the tiobe programming community index where, as of february, it is the third most popular language behind java, and c. it was selected programming language of the year for the highest rise in ratings in a year in, and  the only language to do so four times.\n",
      "\n",
      "an empirical study found that scripting languages, such as python, are more productive than conventional languages, such as c and java, for programming problems involving string manipulation and search in a dictionary, and determined that memory consumption was often better than java and not much worse than c or c++.\n",
      "\n",
      "large organizations that use python include wikipedia, google, yahoo, cern, nasa, facebook, amazon, instagram, spotify and some smaller entities like ilm and ita. the social news networking site reddit was written mostly in python.\n",
      "\n",
      "stackoverflow blog stackoverflow blog stackoverflow blog\n",
      "here's a collection of resources on how to get started using python.\n",
      "\n",
      "getting started with… python\n",
      "in this series, we look at the most loved languages according to the stack overflow developer survey, examine the spread and use cases for each of them, and collect some essential links on how to get started using the language. up now, # on our list python.\n",
      "\n",
      "python is consistently featured amongst the top most loved languages in our developer survey. in,. of respondents said they want to keep working with python. conceived in the late s, it’s one of the older languages on our list, coming just below newcomers rust  and typescript evidence that original designer guido van rossum got a lot right.\n",
      "python’s quirky namein honor of the cult comedy show, monty pythonbelies the fact that this is a hugely expressive language. while it’s not primarily used for performanceintensive programming, it’s often highly efficient to write, and programs tend to be clear and readable. this makes it ideally suited for applications like data science and web development, and it’s used in a wide range of fields, from healthcare and finance to vfx and ai.\n",
      "\n",
      "some  regard it as an ideal language for beginners many terms are expressed using english words rather than symbols, its strict rules about whitespace mean all programs are visually consistent, and code written in python is often more concise than the equivalent in other languages.\n",
      "history of use\n",
      "trending tags on stackoverflow.com\n",
      "\n",
      "although python has been around since the. release in, its usage has ballooned in recent years. indeed, as our former data scientist david robinson noted, since, it has risen above the five other major languages c++, php, java, javascript and c# in usage as estimated by the number of stack overflow question views per month. tiobe’s  index ranks python as third in popularity at., rapidly gaining on c and java. and. respectively. today,   of developers and technologists around the world are using python. \n",
      "\n",
      "until recently the language design and development was lead by a single persondutch computer scientist guido van rossum, who stepped down as python’s benevolent dictator for life in  but has remained an active contributor to this day.\n",
      "\n",
      "who is using it\n",
      "python is more or less ubiquitousit would be faster to list industries that don’t use it in some form. while it’s not the language of choice for consumer applications like   games or mobile apps, even companies developing these applications frequently use python for tools and utilities. it is also commonly embedded into software products for automation and scripting purposesfor example, in the vfx field, nearly all of the major software packages maya, ds max, houdini, cinema d, blender, and nuke have embedded python interpreters, allowing users to add functionality or automate tasks. it’s used more or less everywhere on earth and, well, even on mars.\n",
      "\n",
      "in fact, if you’re reading this on a mac, you already have python installed on your computerjust go to terminal, type ‘python’, and away you go…\n",
      "\n",
      "who is it for\n",
      "students\n",
      "the use of short english keywords instead of symbols makes python particularly friendly for beginners. see the example below.\n",
      "\n",
      "additionally, python handles a lot of memory management automatically, so you’ll spend less time dealing with pointers and references and so on than in a language like c++.\n",
      "\n",
      "it comes bundled with a free ide integrated development environment, idle, so you can get started quickly. in case you’re wondering, yes, idle is a reference to monty python’s eric idleif you use python you’re going to be bombarded with references to vintage british comedy.\n",
      "\n",
      "developers who prioritize ease of programming over execution speed\n",
      "while python typically runs slower than other common languages like c++ or java, it’s often much quicker to writeindeed, some estimates suggest a typical program in python is three to five times shorter than its java equivalent and five to ten times shorter than the c++ version.\n",
      "\n",
      "this is one of the reasons it’s often used as a support languagesoftware developers rely on it for tasks like build control, automated testing, and bug tracking. for the same reason, it’s also used for prototypingcode can be hacked together quickly to test ideas, before perhaps rewriting in a more performant language.\n",
      "\n",
      "developers working with text or numbers\n",
      "python’s powerful string and list manipulation functions make it a great choice for anyone working with text or numbers. and it’s a great tool for exploring data. \n",
      "\n",
      "the fact that it doesn’t need compiling means you can rapidly iterate on a program, and, by running python interactively, you can intuitively manipulate data stepbystep, examining it at each stage.\n",
      "\n",
      "python’s core functionality can be extended with a huge arsenal of ‘packages’, many of which are widely used by the scientific and academic communities, as well as fintech and engineering. these include the venerable numpy mathematical functions and data analysis, scipy for science, matplotlib data visualization and pandas data analysis, and more recently tensorflow and keras machine learningai, as well as tens of thousands of others.\n",
      "\n",
      "web developers\n",
      "another key area of python use is backend development. it has builtin support for common protocols like html, xml, and json, and frameworks like django, flask, and bottle are used widelyfor example, reddit’s backend is python. python powers advanced content management, email automation, and more.\n",
      "\n",
      "why you shouldn’t learn it\n",
      "there’s a lot to like about python, but it’s not always the perfect tool for the job.\n",
      "\n",
      "perhaps most importantly, python is an interpreted language, as opposed to a compiled language like c++. while that means there’s no sitting around waiting for your code to compile, it also means the computer has to do extra work every time the program runs, inherently limiting performance. so you’re probably not going to be writing the next blockbuster fps firstperson shooter in python, but it’s perfect for situations like data manipulation where you’re likely to spend more time writing the program than running it.\n",
      "\n",
      "additionally, python’s somewhat unusual syntax means thatif it’s your first languagenot all of the knowledge you gain will be transferable to other languages, although many of the underlying concepts are identical. for example, the reduced reliance on brackets and braces, the use of english words instead of symbols, and the enforced usage of whitespace mean that a program in python may be visually structured in a very different way to the equivalent code in java or c++.\n",
      "\n",
      "however, these downsides are often a small price to pay for the many benefits, as evidenced by its ubiquity.\n",
      "\n",
      "key concepts\n",
      "the core philosophies are summarizedin pythonic fashionin the zen of python. these include\n",
      "\n",
      "readability counts\n",
      "simple is better than complex\n",
      "there should be oneand preferably only oneobvious way to do it\n",
      "in case you were wondering, the zen of python is available in catchy musical form here.\n",
      "\n",
      "resources\n",
      "official\n",
      "the official tutorial is a quick primer on all the basics, perfect for getting up and running quickly.\n",
      "the python language reference provides full documentation in a nononsense manner that is terse, but attempts to be exact and complete.\n",
      "following the official pep style guide will make your code more readable to other programmers, including the most crucial audience of allyour future self.  \n",
      "the official site also offers an enormous wealth of information, tutorials, and also features curated content in dozens of languages.\n",
      "entrylevel\n",
      "learnpython.org offers a quick, wellthoughtout series of basic lessons, and provides a friendly browserbased python interface to experiment with.\n",
      "code the blocks provides an engaging series of beginner exercises, using a browserbased python interpreter to manipulate a d scene.\n",
      "freecodecamp.org offers a free video course that will take you from novice to intermediate in four hours.\n",
      "the classic how to think like a computer scientist is available in a python  edition that will get you up to speed on python syntax while providing insights that will be valuable in any language.\n",
      "while not pythonexclusive, project euler offers a set of challenges that are perfect for flexing your newfound python muscles. the site is a sequence of over  mathematical puzzles, to which the answer is always a single integer, and the problems range from the trivial to the extremely difficult. you can of course find hints and tips on stack overflowno cheating though\n",
      "project rosalind offers a similarly structured set of problemsthis time from the field of bioinformaticsthat function as both an introduction to python and molecular biology.\n",
      "advanced\n",
      " \n",
      "      \n",
      "the hitchhiker’s guide to python a handson guide for prob \n",
      "moving to python from other languages offers a quick guide to python concepts and gotchas.\n",
      "rafe kettler’s a guide to python’s magic methods offers a detailed explanation of magic methodsthe pythonspecific builtin functions like `init` that you may have been using without even thinking about\n",
      "python is generally considered to be simple to learn if you already understand the general concepts of programming… although learn python in  minutes is a pretty bold claim\n",
      "other resources\n",
      "if you didn’t have time for the  minutes one, how about learn python in  minutes it actually runs over by a minute or so, but it’s still a pretty impressive speedrun of the basics.\n",
      "\n",
      " \n",
      "\n",
      "\n",
      "\n",
      " million dollars, in  and in  \n",
      "\n",
      "\n",
      "\n",
      "\n",
      "\n"
     ]
    }
   ],
   "source": [
    "def clean(text):\n",
    "    punc = \"[]?!();:\\\"=*/|&%{}§_$“”<>-@-—\"\n",
    "    text = text.lower()\n",
    "    result = re.sub(r'[ا-ي]', '',text)\n",
    "    num = re.sub(r'[0-9]', '',result)\n",
    "    bracket = re.sub(r'[\\[\\]]', '',num)\n",
    "    mails = re.sub(r'[a-z0-9_]+@[a-z]+\\.[a-z]{2,3}', '',bracket)\n",
    "    final_data = mails.translate(str.maketrans(\"\",\"\",punc))\n",
    "    final_data1 = re.sub(r' +\\,+', ',',final_data)\n",
    "    final_data1 = re.sub(r'[\\,]+', ',',final_data1)\n",
    "    final_data1 = re.sub(r' +\\.+', '.',final_data1)\n",
    "    final_data1 = re.sub(r'[\\.]+', '.',final_data1)\n",
    "    return final_data1\n",
    "cleaneand = clean(data)\n",
    "print(cleaneand)"
   ]
  },
  {
   "cell_type": "code",
   "execution_count": 5,
   "id": "44f6a3b5",
   "metadata": {},
   "outputs": [
    {
     "name": "stdout",
     "output_type": "stream",
     "text": [
      "Machine learning (ML) refers to a system's ability to acquire, and integrate knowledge through large-scale observations, and to improve, and extend itself by learning new knowledge rather than by being programmed with that knowledge. ML techniques are used in intelligent tutors to acquire new knowledge about students, identify their skills, and learn new teaching approaches. They improve teaching by repeatedly observing how students react and generalize rules about the domain or student. The role of ML techniques in a tutor is to independently observe and evaluate the tutor's actions. ML tutors customize their teaching by reasoning about large groups of students, and tutor-student interactions, generated through several components. A performance element is responsible for making improvements in the tutor, using perceptions of tutor/student interactions, and knowledge about the student's reaction to decide how to modify the tutor to perform better in the future. ML techniques are used to identify student learning strategies, such as, which activities do students select most frequently and in which order. Analysis of student behavior leads to greater student learning outcome by providing tutors with useful diagnostic information for generating feedback.\n",
      "Machine learning is a field of study that looks at using computational algorithms to turn empirical data into usable models. The machine learning field grew out of traditional statistics and artificial intelligences communities. From the efforts of mega corporations such as Google, Microsoft, Facebook, Amazon, and so on, machine learning has become one of the hottest computational science topics in the last decade. Through their business processes immense amounts of data have been and will be collected. This has provided an opportunity to re-invigorate the statistical and computational approaches to autogenerate useful models from data.\n",
      "\n",
      "Machine learning algorithms can be used to (a) gather understanding of the cyber phenomenon that produced the data under study, (b) abstract the understanding of underlying phenomena in the form of a model, (c) predict future values of a phenomena using the above-generated model, and (d) detect anomalous behavior exhibited by a phenomenon under observation. There are several open-source implementations of machine learning algorithms that can be used with either application programming interface (API) calls or nonprogrammatic applications. Examples of such implementations include Weka,1 Orange,2 and RapidMiner.3 The results of such algorithms can be fed to visual analytic tools such as Tableau4 and Spotfire5 to produce dashboards and actionable pipelines.\n",
      "\n",
      "Cyber space and its underlying dynamics can be conceptualized as a manifestation of human actions in an abstract and high-dimensional space. In order to begin solving some of the security challenges within cyber space, one needs to sense various aspects of cyber space and collect data.6 The observational data obtained is usually large and increasingly streaming in nature. Examples of cyber data include error logs, firewall logs, and network flow.\n",
      "The field of machine learning is introduced at a conceptual level. Ideas such as supervised and unsupervised as well as regression and classification are explained. The tradeoff between bias, variance, and model complexity is discussed as a central guiding idea of learning. Various types of model that machine learning can produce are introduced such as the neural network (feed-forward and recurrent), support vector machine, random forest, self-organizing map, and Bayesian network. Training a model is discussed next with its main ideas of splitting a dataset into training, testing, and validation sets as well as performing cross-validation. Assessing the goodness of the model is treated next alongside the essential role of the domain expert in keeping the project real. The chapter concludes with some practical advice on how to perform a machine learning project.\n",
      "\n"
     ]
    }
   ],
   "source": [
    "txt = open(r'C:\\Users\\Khalid Hassan\\Downloads\\Ai hackathon\\new 6.txt',encoding= 'utf-8')\n",
    "df = txt.read()\n",
    "print(df)"
   ]
  },
  {
   "cell_type": "code",
   "execution_count": 6,
   "id": "d415d67e",
   "metadata": {},
   "outputs": [
    {
     "name": "stdout",
     "output_type": "stream",
     "text": [
      "machine learning ml refers to a system's ability to acquire, and integrate knowledge through largescale observations, and to improve, and extend itself by learning new knowledge rather than by being programmed with that knowledge. ml techniques are used in intelligent tutors to acquire new knowledge about students, identify their skills, and learn new teaching approaches. they improve teaching by repeatedly observing how students react and generalize rules about the domain or student. the role of ml techniques in a tutor is to independently observe and evaluate the tutor's actions. ml tutors customize their teaching by reasoning about large groups of students, and tutorstudent interactions, generated through several components. a performance element is responsible for making improvements in the tutor, using perceptions of tutorstudent interactions, and knowledge about the student's reaction to decide how to modify the tutor to perform better in the future. ml techniques are used to identify student learning strategies, such as, which activities do students select most frequently and in which order. analysis of student behavior leads to greater student learning outcome by providing tutors with useful diagnostic information for generating feedback.\n",
      "machine learning is a field of study that looks at using computational algorithms to turn empirical data into usable models. the machine learning field grew out of traditional statistics and artificial intelligences communities. from the efforts of mega corporations such as google, microsoft, facebook, amazon, and so on, machine learning has become one of the hottest computational science topics in the last decade. through their business processes immense amounts of data have been and will be collected. this has provided an opportunity to reinvigorate the statistical and computational approaches to autogenerate useful models from data.\n",
      "\n",
      "machine learning algorithms can be used to a gather understanding of the cyber phenomenon that produced the data under study, b abstract the understanding of underlying phenomena in the form of a model, c predict future values of a phenomena using the abovegenerated model, and d detect anomalous behavior exhibited by a phenomenon under observation. there are several opensource implementations of machine learning algorithms that can be used with either application programming interface api calls or nonprogrammatic applications. examples of such implementations include weka, orange, and rapidminer. the results of such algorithms can be fed to visual analytic tools such as tableau and spotfire to produce dashboards and actionable pipelines.\n",
      "\n",
      "cyber space and its underlying dynamics can be conceptualized as a manifestation of human actions in an abstract and highdimensional space. in order to begin solving some of the security challenges within cyber space, one needs to sense various aspects of cyber space and collect data. the observational data obtained is usually large and increasingly streaming in nature. examples of cyber data include error logs, firewall logs, and network flow.\n",
      "the field of machine learning is introduced at a conceptual level. ideas such as supervised and unsupervised as well as regression and classification are explained. the tradeoff between bias, variance, and model complexity is discussed as a central guiding idea of learning. various types of model that machine learning can produce are introduced such as the neural network feedforward and recurrent, support vector machine, random forest, selforganizing map, and bayesian network. training a model is discussed next with its main ideas of splitting a dataset into training, testing, and validation sets as well as performing crossvalidation. assessing the goodness of the model is treated next alongside the essential role of the domain expert in keeping the project real. the chapter concludes with some practical advice on how to perform a machine learning project.\n",
      "\n"
     ]
    }
   ],
   "source": [
    "Df = clean(df)\n",
    "print(Df)"
   ]
  },
  {
   "cell_type": "code",
   "execution_count": 7,
   "id": "943af5d2",
   "metadata": {},
   "outputs": [
    {
     "name": "stderr",
     "output_type": "stream",
     "text": [
      "C:\\ProgramData\\Anaconda3\\lib\\site-packages\\spacy\\language.py:1895: UserWarning: [W123] Argument disable with value ['ner', 'textcat', 'parser'] is used instead of ['senter'] as specified in the config. Be aware that this might affect other components in your pipeline.\n",
      "  warnings.warn(\n"
     ]
    },
    {
     "name": "stdout",
     "output_type": "stream",
     "text": [
      "[['machine learning ml', 0.05086227045988158], ['usable models', 0.04459129701782448], ['students', 0.038489082280390496], ['intelligent tutors', 0.03647575890104528], ['empirical data', 0.03626958952040059], ['space', 0.022926442616514338], ['knowledge', 0.02220884334947443], ['actions', 0.020444768089049246], ['ml techniques', 0.01728059630260123], ['largescale observations', 0.016477089210474714]]\n"
     ]
    }
   ],
   "source": [
    "import pke\n",
    "\n",
    "# initialize keyphrase extraction model, here TopicRank\n",
    "extractor = pke.unsupervised.TopicRank()\n",
    "\n",
    "# load the content of the document, here document is expected to be a simple \n",
    "# test string and preprocessing is carried out using spacy\n",
    "extractor.load_document(input= Df, language='en')\n",
    "\n",
    "# keyphrase candidate selection, in the case of TopicRank: sequences of nouns\n",
    "# and adjectives (i.e. `(Noun|Adj)*`)\n",
    "extractor.candidate_selection()\n",
    "\n",
    "# candidate weighting, in the case of TopicRank: using a random walk algorithm\n",
    "extractor.candidate_weighting()\n",
    "\n",
    "# N-best selection, keyphrases contains the 10 highest scored candidates as\n",
    "# (keyphrase, score) tuples\n",
    "keyphrases1 = extractor.get_n_best(n=10)\n",
    "list1= []\n",
    "for i in keyphrases1:\n",
    "    list1.append(list(i))\n",
    "\n",
    "print(list1)\n"
   ]
  },
  {
   "cell_type": "code",
   "execution_count": 8,
   "id": "c720a6e4",
   "metadata": {},
   "outputs": [
    {
     "name": "stderr",
     "output_type": "stream",
     "text": [
      "WARNING:root:LoadFile._df_counts is hard coded to C:\\ProgramData\\Anaconda3\\lib\\site-packages\\pke\\models\\df-semeval2010.tsv.gz\n"
     ]
    },
    {
     "name": "stdout",
     "output_type": "stream",
     "text": [
      "[['tutors', 43.259363630104545], ['cyber', 35.89954545007467], ['students', 30.35298751161597], ['machine learning', 27.0898567971536], ['ml techniques', 21.539727270044803], ['cyber space', 21.539727270044803], ['learning', 17.822258921689823], ['machine', 17.536443353128366], ['teaching', 15.539727270044803], ['tutorstudent', 14.359818180029869]]\n"
     ]
    }
   ],
   "source": [
    "import pke\n",
    "\n",
    "# initialize keyphrase extraction model, here TopicRank\n",
    "extractor = pke.unsupervised.TfIdf()\n",
    "\n",
    "# load the content of the document, here document is expected to be a simple \n",
    "# test string and preprocessing is carried out using spacy\n",
    "extractor.load_document(input= Df, language='en')\n",
    "\n",
    "# keyphrase candidate selection, in the case of TopicRank: sequences of nouns\n",
    "# and adjectives (i.e. `(Noun|Adj)*`)\n",
    "extractor.candidate_selection()\n",
    "\n",
    "# candidate weighting, in the case of TopicRank: using a random walk algorithm\n",
    "extractor.candidate_weighting()\n",
    "\n",
    "# N-best selection, keyphrases contains the 10 highest scored candidates as\n",
    "# (keyphrase, score) tuples\n",
    "keyphrases2 = extractor.get_n_best(n=10)\n",
    "list2= []\n",
    "for i in keyphrases2:\n",
    "    list2.append(list(i))\n",
    "\n",
    "print(list2)\n"
   ]
  },
  {
   "cell_type": "code",
   "execution_count": 9,
   "id": "47dcb25c",
   "metadata": {},
   "outputs": [
    {
     "name": "stderr",
     "output_type": "stream",
     "text": [
      "WARNING:root:LoadFile._df_counts is hard coded to C:\\ProgramData\\Anaconda3\\lib\\site-packages\\pke\\models\\df-semeval2010.tsv.gz\n"
     ]
    },
    {
     "name": "stdout",
     "output_type": "stream",
     "text": [
      "[['machine learning', 193.85754543040323], ['ml techniques', 64.6191818101344], ['tutors', 43.259363630104545], ['cyber', 35.89954545007467], ['students', 30.35298751161597], ['learning', 17.822258921689823], ['machine', 17.536443353128366], ['teaching', 15.539727270044803], ['field', 4.355965906355206], ['knowledge', 3.937958336180871]]\n"
     ]
    }
   ],
   "source": [
    "import pke\n",
    "\n",
    "# initialize keyphrase extraction model, here TopicRank\n",
    "extractor = pke.unsupervised.KPMiner()\n",
    "\n",
    "# load the content of the document, here document is expected to be a simple \n",
    "# test string and preprocessing is carried out using spacy\n",
    "extractor.load_document(input= Df, language='en')\n",
    "\n",
    "# keyphrase candidate selection, in the case of TopicRank: sequences of nouns\n",
    "# and adjectives (i.e. `(Noun|Adj)*`)\n",
    "extractor.candidate_selection()\n",
    "\n",
    "# candidate weighting, in the case of TopicRank: using a random walk algorithm\n",
    "extractor.candidate_weighting()\n",
    "\n",
    "# N-best selection, keyphrases contains the 10 highest scored candidates as\n",
    "# (keyphrase, score) tuples\n",
    "keyphrases3 = extractor.get_n_best(n=10)\n",
    "list3= []\n",
    "for i in keyphrases3:\n",
    "    list3.append(list(i))\n",
    "\n",
    "print(list3)\n"
   ]
  },
  {
   "cell_type": "code",
   "execution_count": 10,
   "id": "c619a811",
   "metadata": {},
   "outputs": [
    {
     "name": "stdout",
     "output_type": "stream",
     "text": [
      "[['machine learning ml', 0], ['system', -6], ['ability', -8], ['knowledge', -14], ['largescale observations', -16], ['new knowledge', -28], ['ml techniques', -39], ['intelligent tutors', -44], ['students', -51], ['skills', -55]]\n"
     ]
    }
   ],
   "source": [
    "import pke\n",
    "\n",
    "# initialize keyphrase extraction model, here TopicRank\n",
    "extractor = pke.unsupervised.FirstPhrases()\n",
    "\n",
    "# load the content of the document, here document is expected to be a simple \n",
    "# test string and preprocessing is carried out using spacy\n",
    "extractor.load_document(input= Df, language='en')\n",
    "\n",
    "# keyphrase candidate selection, in the case of TopicRank: sequences of nouns\n",
    "# and adjectives (i.e. `(Noun|Adj)*`)\n",
    "extractor.candidate_selection()\n",
    "\n",
    "# candidate weighting, in the case of TopicRank: using a random walk algorithm\n",
    "extractor.candidate_weighting()\n",
    "\n",
    "# N-best selection, keyphrases contains the 10 highest scored candidates as\n",
    "# (keyphrase, score) tuples\n",
    "keyphrases4 = extractor.get_n_best(n=10)\n",
    "list4= []\n",
    "for i in keyphrases4:\n",
    "    list4.append(list(i))\n",
    "\n",
    "print(list4)\n"
   ]
  },
  {
   "cell_type": "code",
   "execution_count": 11,
   "id": "e28757f1",
   "metadata": {},
   "outputs": [
    {
     "name": "stdout",
     "output_type": "stream",
     "text": [
      "[['machine learning ml', 0.08265138605271027], ['students', 0.0428251968295398], ['knowledge', 0.04168501422095037], ['intelligent tutors', 0.04107738996607506], ['usable models', 0.02628602923850035], ['tutor', 0.025053379265415645], ['ml techniques', 0.023561745582864266], ['empirical data', 0.023529125989826212], ['system', 0.019094256961811617], ['largescale observations', 0.0170218777531851]]\n"
     ]
    }
   ],
   "source": [
    "import pke\n",
    "\n",
    "# initialize keyphrase extraction model, here TopicRank\n",
    "extractor = pke.unsupervised.MultipartiteRank()\n",
    "\n",
    "# load the content of the document, here document is expected to be a simple \n",
    "# test string and preprocessing is carried out using spacy\n",
    "extractor.load_document(input= Df, language='en')\n",
    "\n",
    "# keyphrase candidate selection, in the case of TopicRank: sequences of nouns\n",
    "# and adjectives (i.e. `(Noun|Adj)*`)\n",
    "extractor.candidate_selection()\n",
    "\n",
    "# candidate weighting, in the case of TopicRank: using a random walk algorithm\n",
    "extractor.candidate_weighting()\n",
    "\n",
    "# N-best selection, keyphrases contains the 10 highest scored candidates as\n",
    "# (keyphrase, score) tuples\n",
    "keyphrases5 = extractor.get_n_best(n=10)\n",
    "list5= []\n",
    "for i in keyphrases5:\n",
    "    list5.append(list(i))\n",
    "\n",
    "print(list5)\n"
   ]
  },
  {
   "cell_type": "code",
   "execution_count": 12,
   "id": "7cbfa428",
   "metadata": {},
   "outputs": [
    {
     "name": "stderr",
     "output_type": "stream",
     "text": [
      "WARNING:root:LDA model is hard coded to C:\\ProgramData\\Anaconda3\\lib\\site-packages\\pke\\models\\lda-1000-semeval2010.py3.pickle.gz\n"
     ]
    },
    {
     "name": "stdout",
     "output_type": "stream",
     "text": [
      "[['machine learning field', 0.0851117320490789], ['machine learning algorithms', 0.08498156899375083], ['machine learning ml', 0.08462935682592818], ['greater student learning outcome', 0.08172293872819116], ['machine learning project', 0.08061063959488615], ['student learning strategies', 0.0751236772147421], ['machine learning', 0.0713473045036643], ['student behavior', 0.03826230745690508], ['useful models', 0.03790029987643906], ['such algorithms', 0.03664234610858328]]\n"
     ]
    },
    {
     "name": "stderr",
     "output_type": "stream",
     "text": [
      "C:\\ProgramData\\Anaconda3\\lib\\site-packages\\sklearn\\feature_extraction\\text.py:388: UserWarning: Your stop_words may be inconsistent with your preprocessing. Tokenizing the stop words generated tokens ['ll', 've'] not in stop_words.\n",
      "  warnings.warn('Your stop_words may be inconsistent with '\n"
     ]
    }
   ],
   "source": [
    "import pke\n",
    "\n",
    "# initialize keyphrase extraction model, here TopicRank\n",
    "extractor = pke.unsupervised.TopicalPageRank()\n",
    "\n",
    "# load the content of the document, here document is expected to be a simple \n",
    "# test string and preprocessing is carried out using spacy\n",
    "extractor.load_document(input= Df, language='en')\n",
    "\n",
    "# keyphrase candidate selection, in the case of TopicRank: sequences of nouns\n",
    "# and adjectives (i.e. `(Noun|Adj)*`)\n",
    "extractor.candidate_selection()\n",
    "\n",
    "# candidate weighting, in the case of TopicRank: using a random walk algorithm\n",
    "extractor.candidate_weighting()\n",
    "\n",
    "# N-best selection, keyphrases contains the 10 highest scored candidates as\n",
    "# (keyphrase, score) tuples\n",
    "keyphrases6 = extractor.get_n_best(n=10)\n",
    "list6= []\n",
    "for i in keyphrases6:\n",
    "    list6.append(list(i))\n",
    "\n",
    "print(list6)\n"
   ]
  },
  {
   "cell_type": "code",
   "execution_count": 13,
   "id": "65e42662",
   "metadata": {},
   "outputs": [
    {
     "name": "stdout",
     "output_type": "stream",
     "text": [
      "[['machine learning', 0.026360841085245276], ['learning', 0.032372966649307014], ['acquire new knowledge', 0.04262144936263778], ['machine', 0.04556373432209964], ['new knowledge', 0.05035005603118549], ['learning new knowledge', 0.05267631916096953], ['knowledge', 0.06096494309657523], ['data', 0.07667856236470016], ['model', 0.09304201737420606], ['largescale observations', 0.09552904368868766]]\n"
     ]
    }
   ],
   "source": [
    "import pke\n",
    "\n",
    "# initialize keyphrase extraction model, here TopicRank\n",
    "extractor = pke.unsupervised.YAKE()\n",
    "\n",
    "# load the content of the document, here document is expected to be a simple \n",
    "# test string and preprocessing is carried out using spacy\n",
    "extractor.load_document(input= Df, language='en')\n",
    "\n",
    "# keyphrase candidate selection, in the case of TopicRank: sequences of nouns\n",
    "# and adjectives (i.e. `(Noun|Adj)*`)\n",
    "extractor.candidate_selection()\n",
    "\n",
    "# candidate weighting, in the case of TopicRank: using a random walk algorithm\n",
    "extractor.candidate_weighting()\n",
    "\n",
    "# N-best selection, keyphrases contains the 10 highest scored candidates as\n",
    "# (keyphrase, score) tuples\n",
    "keyphrases7 = extractor.get_n_best(n=10)\n",
    "list7= []\n",
    "for i in keyphrases7:\n",
    "    list7.append(list(i))\n",
    "\n",
    "print(list7)\n"
   ]
  },
  {
   "cell_type": "code",
   "execution_count": 14,
   "id": "240c2b48",
   "metadata": {},
   "outputs": [
    {
     "name": "stdout",
     "output_type": "stream",
     "text": [
      "[['machine learning', 0.026360841085245276], ['learning', 0.032372966649307014], ['acquire new knowledge', 0.04262144936263778], ['machine', 0.04556373432209964], ['new knowledge', 0.05035005603118549], ['learning new knowledge', 0.05267631916096953], ['knowledge', 0.06096494309657523], ['data', 0.07667856236470016], ['model', 0.09304201737420606], ['largescale observations', 0.09552904368868766]]\n"
     ]
    }
   ],
   "source": [
    "import pke\n",
    "\n",
    "# initialize keyphrase extraction model, here TopicRank\n",
    "extractor = pke.unsupervised.YAKE()\n",
    "\n",
    "# load the content of the document, here document is expected to be a simple \n",
    "# test string and preprocessing is carried out using spacy\n",
    "extractor.load_document(input= Df, language='en')\n",
    "\n",
    "# keyphrase candidate selection, in the case of TopicRank: sequences of nouns\n",
    "# and adjectives (i.e. `(Noun|Adj)*`)\n",
    "extractor.candidate_selection()\n",
    "\n",
    "# candidate weighting, in the case of TopicRank: using a random walk algorithm\n",
    "extractor.candidate_weighting()\n",
    "\n",
    "# N-best selection, keyphrases contains the 10 highest scored candidates as\n",
    "# (keyphrase, score) tuples\n",
    "keyphrases8 = extractor.get_n_best(n=10)\n",
    "list8 = []\n",
    "for i in keyphrases8:\n",
    "    list8.append(list(i))\n",
    "\n",
    "print(list8)"
   ]
  },
  {
   "cell_type": "code",
   "execution_count": 15,
   "id": "c2e51a32",
   "metadata": {},
   "outputs": [
    {
     "name": "stdout",
     "output_type": "stream",
     "text": [
      "[['machine learning ml', 0.18263724874599818], ['machine learning algorithms', 0.1618462361057075], ['machine learning field', 0.1617101346327589], ['machine learning project', 0.1543119404142365], ['machine learning', 0.1480536490891938], ['student learning strategies', 0.10823603727294488], ['vector machine', 0.08418287626791672], ['ml tutors', 0.06291213299297642], ['ml techniques', 0.04872031332807829], ['student behavior', 0.0421133005528203]]\n"
     ]
    }
   ],
   "source": [
    "import pke\n",
    "\n",
    "# initialize keyphrase extraction model, here TopicRank\n",
    "extractor = pke.unsupervised.PositionRank()\n",
    "\n",
    "# load the content of the document, here document is expected to be a simple \n",
    "# test string and preprocessing is carried out using spacy\n",
    "extractor.load_document(input= Df, language='en')\n",
    "\n",
    "# keyphrase candidate selection, in the case of TopicRank: sequences of nouns\n",
    "# and adjectives (i.e. `(Noun|Adj)*`)\n",
    "extractor.candidate_selection()\n",
    "\n",
    "# candidate weighting, in the case of TopicRank: using a random walk algorithm\n",
    "extractor.candidate_weighting()\n",
    "\n",
    "# N-best selection, keyphrases contains the 10 highest scored candidates as\n",
    "# (keyphrase, score) tuples\n",
    "keyphrases9 = extractor.get_n_best(n=10)\n",
    "list9= []\n",
    "for i in keyphrases9:\n",
    "    list9.append(list(i))\n",
    "\n",
    "print(list9)"
   ]
  },
  {
   "cell_type": "code",
   "execution_count": 16,
   "id": "01d0f1c4",
   "metadata": {},
   "outputs": [
    {
     "name": "stdout",
     "output_type": "stream",
     "text": [
      "Collecting git+https://github.com/boudinfl/pke.git"
     ]
    },
    {
     "name": "stderr",
     "output_type": "stream",
     "text": [
      "  Running command git clone -q https://github.com/boudinfl/pke.git 'C:\\Users\\Khalid Hassan\\AppData\\Local\\Temp\\pip-req-build-b2fgtusv'\n"
     ]
    },
    {
     "name": "stdout",
     "output_type": "stream",
     "text": [
      "\n",
      "  Cloning https://github.com/boudinfl/pke.git to c:\\users\\khalid hassan\\appdata\\local\\temp\\pip-req-build-b2fgtusv\n",
      "Requirement already satisfied: nltk in c:\\programdata\\anaconda3\\lib\\site-packages (from pke==2.0.0) (3.6.1)\n",
      "Requirement already satisfied: networkx in c:\\programdata\\anaconda3\\lib\\site-packages (from pke==2.0.0) (2.5)\n",
      "Requirement already satisfied: numpy in c:\\programdata\\anaconda3\\lib\\site-packages (from pke==2.0.0) (1.20.1)\n",
      "Requirement already satisfied: scipy in c:\\programdata\\anaconda3\\lib\\site-packages (from pke==2.0.0) (1.6.2)\n",
      "Requirement already satisfied: sklearn in c:\\programdata\\anaconda3\\lib\\site-packages (from pke==2.0.0) (0.0)\n",
      "Requirement already satisfied: unidecode in c:\\programdata\\anaconda3\\lib\\site-packages (from pke==2.0.0) (1.3.6)\n",
      "Requirement already satisfied: future in c:\\programdata\\anaconda3\\lib\\site-packages (from pke==2.0.0) (0.18.2)\n",
      "Requirement already satisfied: joblib in c:\\programdata\\anaconda3\\lib\\site-packages (from pke==2.0.0) (1.0.1)\n",
      "Requirement already satisfied: spacy>=3.2.3 in c:\\programdata\\anaconda3\\lib\\site-packages (from pke==2.0.0) (3.4.2)\n",
      "Requirement already satisfied: pydantic!=1.8,!=1.8.1,<1.11.0,>=1.7.4 in c:\\programdata\\anaconda3\\lib\\site-packages (from spacy>=3.2.3->pke==2.0.0) (1.10.2)\n",
      "Requirement already satisfied: pathy>=0.3.5 in c:\\programdata\\anaconda3\\lib\\site-packages (from spacy>=3.2.3->pke==2.0.0) (0.6.2)\n",
      "Requirement already satisfied: langcodes<4.0.0,>=3.2.0 in c:\\programdata\\anaconda3\\lib\\site-packages (from spacy>=3.2.3->pke==2.0.0) (3.3.0)\n",
      "Requirement already satisfied: thinc<8.2.0,>=8.1.0 in c:\\programdata\\anaconda3\\lib\\site-packages (from spacy>=3.2.3->pke==2.0.0) (8.1.5)\n",
      "Requirement already satisfied: cymem<2.1.0,>=2.0.2 in c:\\programdata\\anaconda3\\lib\\site-packages (from spacy>=3.2.3->pke==2.0.0) (2.0.7)\n",
      "Requirement already satisfied: packaging>=20.0 in c:\\programdata\\anaconda3\\lib\\site-packages (from spacy>=3.2.3->pke==2.0.0) (20.9)\n",
      "Requirement already satisfied: spacy-loggers<2.0.0,>=1.0.0 in c:\\programdata\\anaconda3\\lib\\site-packages (from spacy>=3.2.3->pke==2.0.0) (1.0.3)\n",
      "Requirement already satisfied: spacy-legacy<3.1.0,>=3.0.10 in c:\\programdata\\anaconda3\\lib\\site-packages (from spacy>=3.2.3->pke==2.0.0) (3.0.10)\n",
      "Requirement already satisfied: requests<3.0.0,>=2.13.0 in c:\\programdata\\anaconda3\\lib\\site-packages (from spacy>=3.2.3->pke==2.0.0) (2.25.1)\n",
      "Requirement already satisfied: setuptools in c:\\programdata\\anaconda3\\lib\\site-packages (from spacy>=3.2.3->pke==2.0.0) (52.0.0.post20210125)\n",
      "Requirement already satisfied: typer<0.5.0,>=0.3.0 in c:\\programdata\\anaconda3\\lib\\site-packages (from spacy>=3.2.3->pke==2.0.0) (0.4.2)\n",
      "Requirement already satisfied: murmurhash<1.1.0,>=0.28.0 in c:\\programdata\\anaconda3\\lib\\site-packages (from spacy>=3.2.3->pke==2.0.0) (1.0.9)\n",
      "Requirement already satisfied: preshed<3.1.0,>=3.0.2 in c:\\programdata\\anaconda3\\lib\\site-packages (from spacy>=3.2.3->pke==2.0.0) (3.0.8)\n",
      "Requirement already satisfied: srsly<3.0.0,>=2.4.3 in c:\\programdata\\anaconda3\\lib\\site-packages (from spacy>=3.2.3->pke==2.0.0) (2.4.5)\n",
      "Requirement already satisfied: wasabi<1.1.0,>=0.9.1 in c:\\programdata\\anaconda3\\lib\\site-packages (from spacy>=3.2.3->pke==2.0.0) (0.10.1)\n",
      "Requirement already satisfied: jinja2 in c:\\programdata\\anaconda3\\lib\\site-packages (from spacy>=3.2.3->pke==2.0.0) (2.11.3)\n",
      "Requirement already satisfied: tqdm<5.0.0,>=4.38.0 in c:\\programdata\\anaconda3\\lib\\site-packages (from spacy>=3.2.3->pke==2.0.0) (4.59.0)\n",
      "Requirement already satisfied: catalogue<2.1.0,>=2.0.6 in c:\\programdata\\anaconda3\\lib\\site-packages (from spacy>=3.2.3->pke==2.0.0) (2.0.8)\n",
      "Requirement already satisfied: pyparsing>=2.0.2 in c:\\programdata\\anaconda3\\lib\\site-packages (from packaging>=20.0->spacy>=3.2.3->pke==2.0.0) (2.4.7)\n",
      "Requirement already satisfied: smart-open<6.0.0,>=5.2.1 in c:\\programdata\\anaconda3\\lib\\site-packages (from pathy>=0.3.5->spacy>=3.2.3->pke==2.0.0) (5.2.1)\n",
      "Requirement already satisfied: typing-extensions>=4.1.0 in c:\\programdata\\anaconda3\\lib\\site-packages (from pydantic!=1.8,!=1.8.1,<1.11.0,>=1.7.4->spacy>=3.2.3->pke==2.0.0) (4.4.0)\n",
      "Requirement already satisfied: chardet<5,>=3.0.2 in c:\\programdata\\anaconda3\\lib\\site-packages (from requests<3.0.0,>=2.13.0->spacy>=3.2.3->pke==2.0.0) (4.0.0)\n",
      "Requirement already satisfied: certifi>=2017.4.17 in c:\\programdata\\anaconda3\\lib\\site-packages (from requests<3.0.0,>=2.13.0->spacy>=3.2.3->pke==2.0.0) (2020.12.5)\n",
      "Requirement already satisfied: urllib3<1.27,>=1.21.1 in c:\\programdata\\anaconda3\\lib\\site-packages (from requests<3.0.0,>=2.13.0->spacy>=3.2.3->pke==2.0.0) (1.26.4)\n",
      "Requirement already satisfied: idna<3,>=2.5 in c:\\programdata\\anaconda3\\lib\\site-packages (from requests<3.0.0,>=2.13.0->spacy>=3.2.3->pke==2.0.0) (2.10)\n",
      "Requirement already satisfied: blis<0.8.0,>=0.7.8 in c:\\programdata\\anaconda3\\lib\\site-packages (from thinc<8.2.0,>=8.1.0->spacy>=3.2.3->pke==2.0.0) (0.7.9)\n",
      "Requirement already satisfied: confection<1.0.0,>=0.0.1 in c:\\programdata\\anaconda3\\lib\\site-packages (from thinc<8.2.0,>=8.1.0->spacy>=3.2.3->pke==2.0.0) (0.0.3)\n",
      "Requirement already satisfied: click<9.0.0,>=7.1.1 in c:\\programdata\\anaconda3\\lib\\site-packages (from typer<0.5.0,>=0.3.0->spacy>=3.2.3->pke==2.0.0) (7.1.2)\n",
      "Requirement already satisfied: MarkupSafe>=0.23 in c:\\programdata\\anaconda3\\lib\\site-packages (from jinja2->spacy>=3.2.3->pke==2.0.0) (1.1.1)\n",
      "Requirement already satisfied: decorator>=4.3.0 in c:\\programdata\\anaconda3\\lib\\site-packages (from networkx->pke==2.0.0) (5.0.6)\n",
      "Requirement already satisfied: regex in c:\\programdata\\anaconda3\\lib\\site-packages (from nltk->pke==2.0.0) (2021.4.4)\n",
      "Requirement already satisfied: scikit-learn in c:\\programdata\\anaconda3\\lib\\site-packages (from sklearn->pke==2.0.0) (0.24.1)\n",
      "Requirement already satisfied: threadpoolctl>=2.0.0 in c:\\programdata\\anaconda3\\lib\\site-packages (from scikit-learn->sklearn->pke==2.0.0) (2.1.0)\n"
     ]
    }
   ],
   "source": [
    "!pip install git+https://github.com/boudinfl/pke.git"
   ]
  },
  {
   "cell_type": "code",
   "execution_count": 17,
   "id": "eb341159",
   "metadata": {},
   "outputs": [
    {
     "name": "stdout",
     "output_type": "stream",
     "text": [
      "Collecting en-core-web-sm==3.4.1\n",
      "  Downloading https://github.com/explosion/spacy-models/releases/download/en_core_web_sm-3.4.1/en_core_web_sm-3.4.1-py3-none-any.whl (12.8 MB)\n",
      "Requirement already satisfied: spacy<3.5.0,>=3.4.0 in c:\\programdata\\anaconda3\\lib\\site-packages (from en-core-web-sm==3.4.1) (3.4.2)\n",
      "Requirement already satisfied: preshed<3.1.0,>=3.0.2 in c:\\programdata\\anaconda3\\lib\\site-packages (from spacy<3.5.0,>=3.4.0->en-core-web-sm==3.4.1) (3.0.8)\n",
      "Requirement already satisfied: tqdm<5.0.0,>=4.38.0 in c:\\programdata\\anaconda3\\lib\\site-packages (from spacy<3.5.0,>=3.4.0->en-core-web-sm==3.4.1) (4.59.0)\n",
      "Requirement already satisfied: wasabi<1.1.0,>=0.9.1 in c:\\programdata\\anaconda3\\lib\\site-packages (from spacy<3.5.0,>=3.4.0->en-core-web-sm==3.4.1) (0.10.1)\n",
      "Requirement already satisfied: numpy>=1.15.0 in c:\\programdata\\anaconda3\\lib\\site-packages (from spacy<3.5.0,>=3.4.0->en-core-web-sm==3.4.1) (1.20.1)\n",
      "Requirement already satisfied: typer<0.5.0,>=0.3.0 in c:\\programdata\\anaconda3\\lib\\site-packages (from spacy<3.5.0,>=3.4.0->en-core-web-sm==3.4.1) (0.4.2)\n",
      "Requirement already satisfied: catalogue<2.1.0,>=2.0.6 in c:\\programdata\\anaconda3\\lib\\site-packages (from spacy<3.5.0,>=3.4.0->en-core-web-sm==3.4.1) (2.0.8)\n",
      "Requirement already satisfied: packaging>=20.0 in c:\\programdata\\anaconda3\\lib\\site-packages (from spacy<3.5.0,>=3.4.0->en-core-web-sm==3.4.1) (20.9)\n",
      "Requirement already satisfied: requests<3.0.0,>=2.13.0 in c:\\programdata\\anaconda3\\lib\\site-packages (from spacy<3.5.0,>=3.4.0->en-core-web-sm==3.4.1) (2.25.1)\n",
      "Requirement already satisfied: pathy>=0.3.5 in c:\\programdata\\anaconda3\\lib\\site-packages (from spacy<3.5.0,>=3.4.0->en-core-web-sm==3.4.1) (0.6.2)\n",
      "Requirement already satisfied: thinc<8.2.0,>=8.1.0 in c:\\programdata\\anaconda3\\lib\\site-packages (from spacy<3.5.0,>=3.4.0->en-core-web-sm==3.4.1) (8.1.5)\n",
      "Requirement already satisfied: cymem<2.1.0,>=2.0.2 in c:\\programdata\\anaconda3\\lib\\site-packages (from spacy<3.5.0,>=3.4.0->en-core-web-sm==3.4.1) (2.0.7)\n",
      "Requirement already satisfied: pydantic!=1.8,!=1.8.1,<1.11.0,>=1.7.4 in c:\\programdata\\anaconda3\\lib\\site-packages (from spacy<3.5.0,>=3.4.0->en-core-web-sm==3.4.1) (1.10.2)\n",
      "Requirement already satisfied: murmurhash<1.1.0,>=0.28.0 in c:\\programdata\\anaconda3\\lib\\site-packages (from spacy<3.5.0,>=3.4.0->en-core-web-sm==3.4.1) (1.0.9)\n",
      "Requirement already satisfied: jinja2 in c:\\programdata\\anaconda3\\lib\\site-packages (from spacy<3.5.0,>=3.4.0->en-core-web-sm==3.4.1) (2.11.3)\n",
      "Requirement already satisfied: srsly<3.0.0,>=2.4.3 in c:\\programdata\\anaconda3\\lib\\site-packages (from spacy<3.5.0,>=3.4.0->en-core-web-sm==3.4.1) (2.4.5)\n",
      "Requirement already satisfied: setuptools in c:\\programdata\\anaconda3\\lib\\site-packages (from spacy<3.5.0,>=3.4.0->en-core-web-sm==3.4.1) (52.0.0.post20210125)\n",
      "Requirement already satisfied: spacy-loggers<2.0.0,>=1.0.0 in c:\\programdata\\anaconda3\\lib\\site-packages (from spacy<3.5.0,>=3.4.0->en-core-web-sm==3.4.1) (1.0.3)\n",
      "Requirement already satisfied: langcodes<4.0.0,>=3.2.0 in c:\\programdata\\anaconda3\\lib\\site-packages (from spacy<3.5.0,>=3.4.0->en-core-web-sm==3.4.1) (3.3.0)\n",
      "Requirement already satisfied: spacy-legacy<3.1.0,>=3.0.10 in c:\\programdata\\anaconda3\\lib\\site-packages (from spacy<3.5.0,>=3.4.0->en-core-web-sm==3.4.1) (3.0.10)\n",
      "Requirement already satisfied: pyparsing>=2.0.2 in c:\\programdata\\anaconda3\\lib\\site-packages (from packaging>=20.0->spacy<3.5.0,>=3.4.0->en-core-web-sm==3.4.1) (2.4.7)\n",
      "Requirement already satisfied: smart-open<6.0.0,>=5.2.1 in c:\\programdata\\anaconda3\\lib\\site-packages (from pathy>=0.3.5->spacy<3.5.0,>=3.4.0->en-core-web-sm==3.4.1) (5.2.1)\n",
      "Requirement already satisfied: typing-extensions>=4.1.0 in c:\\programdata\\anaconda3\\lib\\site-packages (from pydantic!=1.8,!=1.8.1,<1.11.0,>=1.7.4->spacy<3.5.0,>=3.4.0->en-core-web-sm==3.4.1) (4.4.0)\n",
      "Requirement already satisfied: idna<3,>=2.5 in c:\\programdata\\anaconda3\\lib\\site-packages (from requests<3.0.0,>=2.13.0->spacy<3.5.0,>=3.4.0->en-core-web-sm==3.4.1) (2.10)\n",
      "Requirement already satisfied: certifi>=2017.4.17 in c:\\programdata\\anaconda3\\lib\\site-packages (from requests<3.0.0,>=2.13.0->spacy<3.5.0,>=3.4.0->en-core-web-sm==3.4.1) (2020.12.5)\n",
      "Requirement already satisfied: chardet<5,>=3.0.2 in c:\\programdata\\anaconda3\\lib\\site-packages (from requests<3.0.0,>=2.13.0->spacy<3.5.0,>=3.4.0->en-core-web-sm==3.4.1) (4.0.0)\n",
      "Requirement already satisfied: urllib3<1.27,>=1.21.1 in c:\\programdata\\anaconda3\\lib\\site-packages (from requests<3.0.0,>=2.13.0->spacy<3.5.0,>=3.4.0->en-core-web-sm==3.4.1) (1.26.4)\n",
      "Requirement already satisfied: blis<0.8.0,>=0.7.8 in c:\\programdata\\anaconda3\\lib\\site-packages (from thinc<8.2.0,>=8.1.0->spacy<3.5.0,>=3.4.0->en-core-web-sm==3.4.1) (0.7.9)\n",
      "Requirement already satisfied: confection<1.0.0,>=0.0.1 in c:\\programdata\\anaconda3\\lib\\site-packages (from thinc<8.2.0,>=8.1.0->spacy<3.5.0,>=3.4.0->en-core-web-sm==3.4.1) (0.0.3)\n",
      "Requirement already satisfied: click<9.0.0,>=7.1.1 in c:\\programdata\\anaconda3\\lib\\site-packages (from typer<0.5.0,>=0.3.0->spacy<3.5.0,>=3.4.0->en-core-web-sm==3.4.1) (7.1.2)\n",
      "Requirement already satisfied: MarkupSafe>=0.23 in c:\\programdata\\anaconda3\\lib\\site-packages (from jinja2->spacy<3.5.0,>=3.4.0->en-core-web-sm==3.4.1) (1.1.1)\n",
      "[+] Download and installation successful\n",
      "You can now load the package via spacy.load('en_core_web_sm')\n"
     ]
    },
    {
     "name": "stderr",
     "output_type": "stream",
     "text": [
      "2022-10-30 18:18:23.841009: W tensorflow/stream_executor/platform/default/dso_loader.cc:64] Could not load dynamic library 'cudart64_110.dll'; dlerror: cudart64_110.dll not found\n",
      "2022-10-30 18:18:23.841038: I tensorflow/stream_executor/cuda/cudart_stub.cc:29] Ignore above cudart dlerror if you do not have a GPU set up on your machine.\n",
      "2022-10-30 18:18:26.742683: W tensorflow/stream_executor/platform/default/dso_loader.cc:64] Could not load dynamic library 'cudart64_110.dll'; dlerror: cudart64_110.dll not found\n",
      "2022-10-30 18:18:26.743325: W tensorflow/stream_executor/platform/default/dso_loader.cc:64] Could not load dynamic library 'cublas64_11.dll'; dlerror: cublas64_11.dll not found\n",
      "2022-10-30 18:18:26.743929: W tensorflow/stream_executor/platform/default/dso_loader.cc:64] Could not load dynamic library 'cublasLt64_11.dll'; dlerror: cublasLt64_11.dll not found\n",
      "2022-10-30 18:18:26.744526: W tensorflow/stream_executor/platform/default/dso_loader.cc:64] Could not load dynamic library 'cufft64_10.dll'; dlerror: cufft64_10.dll not found\n",
      "2022-10-30 18:18:26.745123: W tensorflow/stream_executor/platform/default/dso_loader.cc:64] Could not load dynamic library 'curand64_10.dll'; dlerror: curand64_10.dll not found\n",
      "2022-10-30 18:18:26.745716: W tensorflow/stream_executor/platform/default/dso_loader.cc:64] Could not load dynamic library 'cusolver64_11.dll'; dlerror: cusolver64_11.dll not found\n",
      "2022-10-30 18:18:26.746371: W tensorflow/stream_executor/platform/default/dso_loader.cc:64] Could not load dynamic library 'cusparse64_11.dll'; dlerror: cusparse64_11.dll not found\n",
      "2022-10-30 18:18:26.747158: W tensorflow/stream_executor/platform/default/dso_loader.cc:64] Could not load dynamic library 'cudnn64_8.dll'; dlerror: cudnn64_8.dll not found\n",
      "2022-10-30 18:18:26.747182: W tensorflow/core/common_runtime/gpu/gpu_device.cc:1850] Cannot dlopen some GPU libraries. Please make sure the missing libraries mentioned above are installed properly if you would like to use GPU. Follow the guide at https://www.tensorflow.org/install/gpu for how to download and setup the required libraries for your platform.\n",
      "Skipping registering GPU devices...\n"
     ]
    }
   ],
   "source": [
    "!python -m spacy download en_core_web_sm"
   ]
  },
  {
   "cell_type": "code",
   "execution_count": 18,
   "id": "9eca4bd5",
   "metadata": {},
   "outputs": [],
   "source": [
    "result = []\n",
    "def res(output,result):\n",
    "    for i in range(len(output)):\n",
    "        result.append(output[i][0])\n",
    "    return result"
   ]
  },
  {
   "cell_type": "code",
   "execution_count": 19,
   "id": "fc7af4cb",
   "metadata": {},
   "outputs": [
    {
     "name": "stdout",
     "output_type": "stream",
     "text": [
      "['machine learning ml', 'machine learning algorithms', 'machine learning field', 'machine learning project', 'machine learning', 'student learning strategies', 'vector machine', 'ml tutors', 'ml techniques', 'student behavior']\n",
      "['machine learning ml', 'machine learning algorithms', 'machine learning field', 'machine learning project', 'machine learning', 'student learning strategies', 'vector machine', 'ml tutors', 'ml techniques', 'student behavior', 'machine learning', 'learning', 'acquire new knowledge', 'machine', 'new knowledge', 'learning new knowledge', 'knowledge', 'data', 'model', 'largescale observations']\n",
      "['machine learning ml', 'machine learning algorithms', 'machine learning field', 'machine learning project', 'machine learning', 'student learning strategies', 'vector machine', 'ml tutors', 'ml techniques', 'student behavior', 'machine learning', 'learning', 'acquire new knowledge', 'machine', 'new knowledge', 'learning new knowledge', 'knowledge', 'data', 'model', 'largescale observations', 'machine learning', 'learning', 'acquire new knowledge', 'machine', 'new knowledge', 'learning new knowledge', 'knowledge', 'data', 'model', 'largescale observations']\n",
      "['machine learning ml', 'machine learning algorithms', 'machine learning field', 'machine learning project', 'machine learning', 'student learning strategies', 'vector machine', 'ml tutors', 'ml techniques', 'student behavior', 'machine learning', 'learning', 'acquire new knowledge', 'machine', 'new knowledge', 'learning new knowledge', 'knowledge', 'data', 'model', 'largescale observations', 'machine learning', 'learning', 'acquire new knowledge', 'machine', 'new knowledge', 'learning new knowledge', 'knowledge', 'data', 'model', 'largescale observations', 'machine learning field', 'machine learning algorithms', 'machine learning ml', 'greater student learning outcome', 'machine learning project', 'student learning strategies', 'machine learning', 'student behavior', 'useful models', 'such algorithms']\n",
      "['machine learning ml', 'machine learning algorithms', 'machine learning field', 'machine learning project', 'machine learning', 'student learning strategies', 'vector machine', 'ml tutors', 'ml techniques', 'student behavior', 'machine learning', 'learning', 'acquire new knowledge', 'machine', 'new knowledge', 'learning new knowledge', 'knowledge', 'data', 'model', 'largescale observations', 'machine learning', 'learning', 'acquire new knowledge', 'machine', 'new knowledge', 'learning new knowledge', 'knowledge', 'data', 'model', 'largescale observations', 'machine learning field', 'machine learning algorithms', 'machine learning ml', 'greater student learning outcome', 'machine learning project', 'student learning strategies', 'machine learning', 'student behavior', 'useful models', 'such algorithms', 'machine learning ml', 'students', 'knowledge', 'intelligent tutors', 'usable models', 'tutor', 'ml techniques', 'empirical data', 'system', 'largescale observations']\n",
      "['machine learning ml', 'machine learning algorithms', 'machine learning field', 'machine learning project', 'machine learning', 'student learning strategies', 'vector machine', 'ml tutors', 'ml techniques', 'student behavior', 'machine learning', 'learning', 'acquire new knowledge', 'machine', 'new knowledge', 'learning new knowledge', 'knowledge', 'data', 'model', 'largescale observations', 'machine learning', 'learning', 'acquire new knowledge', 'machine', 'new knowledge', 'learning new knowledge', 'knowledge', 'data', 'model', 'largescale observations', 'machine learning field', 'machine learning algorithms', 'machine learning ml', 'greater student learning outcome', 'machine learning project', 'student learning strategies', 'machine learning', 'student behavior', 'useful models', 'such algorithms', 'machine learning ml', 'students', 'knowledge', 'intelligent tutors', 'usable models', 'tutor', 'ml techniques', 'empirical data', 'system', 'largescale observations', 'machine learning ml', 'system', 'ability', 'knowledge', 'largescale observations', 'new knowledge', 'ml techniques', 'intelligent tutors', 'students', 'skills']\n",
      "['machine learning ml', 'machine learning algorithms', 'machine learning field', 'machine learning project', 'machine learning', 'student learning strategies', 'vector machine', 'ml tutors', 'ml techniques', 'student behavior', 'machine learning', 'learning', 'acquire new knowledge', 'machine', 'new knowledge', 'learning new knowledge', 'knowledge', 'data', 'model', 'largescale observations', 'machine learning', 'learning', 'acquire new knowledge', 'machine', 'new knowledge', 'learning new knowledge', 'knowledge', 'data', 'model', 'largescale observations', 'machine learning field', 'machine learning algorithms', 'machine learning ml', 'greater student learning outcome', 'machine learning project', 'student learning strategies', 'machine learning', 'student behavior', 'useful models', 'such algorithms', 'machine learning ml', 'students', 'knowledge', 'intelligent tutors', 'usable models', 'tutor', 'ml techniques', 'empirical data', 'system', 'largescale observations', 'machine learning ml', 'system', 'ability', 'knowledge', 'largescale observations', 'new knowledge', 'ml techniques', 'intelligent tutors', 'students', 'skills', 'machine learning', 'ml techniques', 'tutors', 'cyber', 'students', 'learning', 'machine', 'teaching', 'field', 'knowledge']\n",
      "['machine learning ml', 'machine learning algorithms', 'machine learning field', 'machine learning project', 'machine learning', 'student learning strategies', 'vector machine', 'ml tutors', 'ml techniques', 'student behavior', 'machine learning', 'learning', 'acquire new knowledge', 'machine', 'new knowledge', 'learning new knowledge', 'knowledge', 'data', 'model', 'largescale observations', 'machine learning', 'learning', 'acquire new knowledge', 'machine', 'new knowledge', 'learning new knowledge', 'knowledge', 'data', 'model', 'largescale observations', 'machine learning field', 'machine learning algorithms', 'machine learning ml', 'greater student learning outcome', 'machine learning project', 'student learning strategies', 'machine learning', 'student behavior', 'useful models', 'such algorithms', 'machine learning ml', 'students', 'knowledge', 'intelligent tutors', 'usable models', 'tutor', 'ml techniques', 'empirical data', 'system', 'largescale observations', 'machine learning ml', 'system', 'ability', 'knowledge', 'largescale observations', 'new knowledge', 'ml techniques', 'intelligent tutors', 'students', 'skills', 'machine learning', 'ml techniques', 'tutors', 'cyber', 'students', 'learning', 'machine', 'teaching', 'field', 'knowledge', 'tutors', 'cyber', 'students', 'machine learning', 'ml techniques', 'cyber space', 'learning', 'machine', 'teaching', 'tutorstudent']\n",
      "['machine learning ml', 'machine learning algorithms', 'machine learning field', 'machine learning project', 'machine learning', 'student learning strategies', 'vector machine', 'ml tutors', 'ml techniques', 'student behavior', 'machine learning', 'learning', 'acquire new knowledge', 'machine', 'new knowledge', 'learning new knowledge', 'knowledge', 'data', 'model', 'largescale observations', 'machine learning', 'learning', 'acquire new knowledge', 'machine', 'new knowledge', 'learning new knowledge', 'knowledge', 'data', 'model', 'largescale observations', 'machine learning field', 'machine learning algorithms', 'machine learning ml', 'greater student learning outcome', 'machine learning project', 'student learning strategies', 'machine learning', 'student behavior', 'useful models', 'such algorithms', 'machine learning ml', 'students', 'knowledge', 'intelligent tutors', 'usable models', 'tutor', 'ml techniques', 'empirical data', 'system', 'largescale observations', 'machine learning ml', 'system', 'ability', 'knowledge', 'largescale observations', 'new knowledge', 'ml techniques', 'intelligent tutors', 'students', 'skills', 'machine learning', 'ml techniques', 'tutors', 'cyber', 'students', 'learning', 'machine', 'teaching', 'field', 'knowledge', 'tutors', 'cyber', 'students', 'machine learning', 'ml techniques', 'cyber space', 'learning', 'machine', 'teaching', 'tutorstudent', 'machine learning ml', 'usable models', 'students', 'intelligent tutors', 'empirical data', 'space', 'knowledge', 'actions', 'ml techniques', 'largescale observations']\n"
     ]
    }
   ],
   "source": [
    "print(res(list9,result))\n",
    "print(res(list8,result))\n",
    "print(res(list7,result))\n",
    "print(res(list6,result))\n",
    "print(res(list5,result))\n",
    "print(res(list4,result))\n",
    "print(res(list3,result))\n",
    "print(res(list2,result))\n",
    "print(res(list1,result))"
   ]
  },
  {
   "cell_type": "code",
   "execution_count": 20,
   "id": "6e0302e4",
   "metadata": {},
   "outputs": [
    {
     "name": "stdout",
     "output_type": "stream",
     "text": [
      "['machine learning ml', 'machine learning algorithms', 'machine learning field', 'machine learning project', 'machine learning', 'student learning strategies', 'vector machine', 'ml tutors', 'ml techniques', 'student behavior', 'machine learning', 'learning', 'acquire new knowledge', 'machine', 'new knowledge', 'learning new knowledge', 'knowledge', 'data', 'model', 'largescale observations', 'machine learning', 'learning', 'acquire new knowledge', 'machine', 'new knowledge', 'learning new knowledge', 'knowledge', 'data', 'model', 'largescale observations', 'machine learning field', 'machine learning algorithms', 'machine learning ml', 'greater student learning outcome', 'machine learning project', 'student learning strategies', 'machine learning', 'student behavior', 'useful models', 'such algorithms', 'machine learning ml', 'students', 'knowledge', 'intelligent tutors', 'usable models', 'tutor', 'ml techniques', 'empirical data', 'system', 'largescale observations', 'machine learning ml', 'system', 'ability', 'knowledge', 'largescale observations', 'new knowledge', 'ml techniques', 'intelligent tutors', 'students', 'skills', 'machine learning', 'ml techniques', 'tutors', 'cyber', 'students', 'learning', 'machine', 'teaching', 'field', 'knowledge', 'tutors', 'cyber', 'students', 'machine learning', 'ml techniques', 'cyber space', 'learning', 'machine', 'teaching', 'tutorstudent', 'machine learning ml', 'usable models', 'students', 'intelligent tutors', 'empirical data', 'space', 'knowledge', 'actions', 'ml techniques', 'largescale observations']\n",
      "90\n"
     ]
    }
   ],
   "source": [
    "print(result)\n",
    "print(len(result))"
   ]
  },
  {
   "cell_type": "code",
   "execution_count": 21,
   "id": "14e723b3",
   "metadata": {},
   "outputs": [
    {
     "name": "stdout",
     "output_type": "stream",
     "text": [
      "['field', 'ml techniques', 'useful models', 'tutorstudent', 'new knowledge', 'acquire new knowledge', 'skills', 'machine learning', 'empirical data', 'system', 'machine learning ml', 'tutors', 'actions', 'learning', 'student behavior', 'vector machine', 'model', 'intelligent tutors', 'tutor', 'machine learning field', 'machine learning project', 'machine', 'ability', 'largescale observations', 'ml tutors', 'student learning strategies', 'cyber', 'knowledge', 'students', 'usable models', 'teaching', 'greater student learning outcome', 'cyber space', 'space', 'data', 'machine learning algorithms', 'such algorithms', 'learning new knowledge']\n"
     ]
    },
    {
     "data": {
      "text/plain": [
       "38"
      ]
     },
     "execution_count": 21,
     "metadata": {},
     "output_type": "execute_result"
    }
   ],
   "source": [
    "result_set = list(set(result))\n",
    "print(result_set)\n",
    "len(result_set)\n"
   ]
  },
  {
   "cell_type": "code",
   "execution_count": 22,
   "id": "ca80ad2d",
   "metadata": {},
   "outputs": [
    {
     "name": "stdout",
     "output_type": "stream",
     "text": [
      "[['field', 1], ['ml techniques', 6], ['useful models', 1], ['tutorstudent', 1], ['new knowledge', 3], ['acquire new knowledge', 2], ['skills', 1], ['machine learning', 6], ['empirical data', 2], ['system', 2], ['machine learning ml', 5], ['tutors', 2], ['actions', 1], ['learning', 4], ['student behavior', 2], ['vector machine', 1], ['model', 2], ['intelligent tutors', 3], ['tutor', 1], ['machine learning field', 2], ['machine learning project', 2], ['machine', 4], ['ability', 1], ['largescale observations', 5], ['ml tutors', 1], ['student learning strategies', 2], ['cyber', 2], ['knowledge', 6], ['students', 5], ['usable models', 2], ['teaching', 2], ['greater student learning outcome', 1], ['cyber space', 1], ['space', 1], ['data', 2], ['machine learning algorithms', 2], ['such algorithms', 1], ['learning new knowledge', 2]]\n",
      "38\n"
     ]
    }
   ],
   "source": [
    "matrix = []\n",
    "for i in range(len(result_set)):\n",
    "    ss = []\n",
    "    elm_count = result.count(result_set[i])\n",
    "    ss.append(result_set[i])\n",
    "    ss.append(elm_count)\n",
    "    matrix.append(ss)\n",
    "print(matrix)\n",
    "print(len(matrix))\n",
    "\n"
   ]
  },
  {
   "cell_type": "code",
   "execution_count": 23,
   "id": "f97146f4",
   "metadata": {},
   "outputs": [
    {
     "name": "stdout",
     "output_type": "stream",
     "text": [
      "[['ml techniques', 6], ['new knowledge', 3], ['machine learning', 6], ['machine learning ml', 5], ['learning', 4], ['intelligent tutors', 3], ['machine', 4], ['largescale observations', 5], ['knowledge', 6], ['students', 5]]\n"
     ]
    }
   ],
   "source": [
    "final_res = []\n",
    "for i in range(len(matrix)):\n",
    "     if matrix[i][1] > 2:\n",
    "        final_res.append(matrix[i])\n",
    "print(final_res)   "
   ]
  },
  {
   "cell_type": "code",
   "execution_count": 24,
   "id": "0666795d",
   "metadata": {},
   "outputs": [
    {
     "name": "stdout",
     "output_type": "stream",
     "text": [
      "['ml techniques', 'new knowledge', 'machine learning', 'machine learning ml', 'learning', 'intelligent tutors', 'machine', 'largescale observations', 'knowledge', 'students']\n"
     ]
    }
   ],
   "source": [
    "final_final_res = []\n",
    "for i in range(len(final_res)):\n",
    "    final_final_res.append(final_res[i][0])\n",
    "print(final_final_res)"
   ]
  },
  {
   "cell_type": "code",
   "execution_count": 25,
   "id": "9c87509e",
   "metadata": {},
   "outputs": [
    {
     "name": "stdout",
     "output_type": "stream",
     "text": [
      "Requirement already satisfied: flashtext in c:\\programdata\\anaconda3\\lib\\site-packages (2.7)\n",
      "Note: you may need to restart the kernel to use updated packages.\n"
     ]
    }
   ],
   "source": [
    "pip install flashtext"
   ]
  },
  {
   "cell_type": "code",
   "execution_count": 30,
   "id": "46c3f887",
   "metadata": {},
   "outputs": [
    {
     "name": "stdout",
     "output_type": "stream",
     "text": [
      "{'ml techniques': ['ml techniques are used to identify student learning strategies, such as, which activities do students select most frequently and in which order.', 'ml techniques are used in intelligent tutors to acquire new knowledge about students, identify their skills, and learn new teaching approaches.', \"the role of ml techniques in a tutor is to independently observe and evaluate the tutor's actions.\"], 'new knowledge': [\"machine learning ml refers to a system's ability to acquire, and integrate knowledge through largescale observations, and to improve, and extend itself by learning new knowledge rather than by being programmed with that knowledge.\", 'ml techniques are used in intelligent tutors to acquire new knowledge about students, identify their skills, and learn new teaching approaches.'], 'machine learning': ['machine learning algorithms can be used to a gather understanding of the cyber phenomenon that produced the data under study, b abstract the understanding of underlying phenomena in the form of a model, c predict future values of a phenomena using the abovegenerated model, and d detect anomalous behavior exhibited by a phenomenon under observation.', 'various types of model that machine learning can produce are introduced such as the neural network feedforward and recurrent, support vector machine, random forest, selforganizing map, and bayesian network.', 'from the efforts of mega corporations such as google, microsoft, facebook, amazon, and so on, machine learning has become one of the hottest computational science topics in the last decade.', 'there are several opensource implementations of machine learning algorithms that can be used with either application programming interface api calls or nonprogrammatic applications.', 'machine learning is a field of study that looks at using computational algorithms to turn empirical data into usable models.', 'the machine learning field grew out of traditional statistics and artificial intelligences communities.', 'the chapter concludes with some practical advice on how to perform a machine learning project.', 'the field of machine learning is introduced at a conceptual level.'], 'machine learning ml': [\"machine learning ml refers to a system's ability to acquire, and integrate knowledge through largescale observations, and to improve, and extend itself by learning new knowledge rather than by being programmed with that knowledge.\"], 'learning': [\"machine learning ml refers to a system's ability to acquire, and integrate knowledge through largescale observations, and to improve, and extend itself by learning new knowledge rather than by being programmed with that knowledge.\", 'analysis of student behavior leads to greater student learning outcome by providing tutors with useful diagnostic information for generating feedback.', 'ml techniques are used to identify student learning strategies, such as, which activities do students select most frequently and in which order.', 'the tradeoff between bias, variance, and model complexity is discussed as a central guiding idea of learning.'], 'intelligent tutors': ['ml techniques are used in intelligent tutors to acquire new knowledge about students, identify their skills, and learn new teaching approaches.'], 'machine': ['various types of model that machine learning can produce are introduced such as the neural network feedforward and recurrent, support vector machine, random forest, selforganizing map, and bayesian network.'], 'largescale observations': [\"machine learning ml refers to a system's ability to acquire, and integrate knowledge through largescale observations, and to improve, and extend itself by learning new knowledge rather than by being programmed with that knowledge.\"], 'knowledge': [\"a performance element is responsible for making improvements in the tutor, using perceptions of tutorstudent interactions, and knowledge about the student's reaction to decide how to modify the tutor to perform better in the future.\", \"machine learning ml refers to a system's ability to acquire, and integrate knowledge through largescale observations, and to improve, and extend itself by learning new knowledge rather than by being programmed with that knowledge.\", \"machine learning ml refers to a system's ability to acquire, and integrate knowledge through largescale observations, and to improve, and extend itself by learning new knowledge rather than by being programmed with that knowledge.\"], 'students': ['ml tutors customize their teaching by reasoning about large groups of students, and tutorstudent interactions, generated through several components.', 'ml techniques are used to identify student learning strategies, such as, which activities do students select most frequently and in which order.', 'ml techniques are used in intelligent tutors to acquire new knowledge about students, identify their skills, and learn new teaching approaches.', 'they improve teaching by repeatedly observing how students react and generalize rules about the domain or student.']}\n"
     ]
    }
   ],
   "source": [
    "from nltk.tokenize import sent_tokenize\n",
    "from flashtext import KeywordProcessor\n",
    "\n",
    "def tokenize_sentences(text):\n",
    "    sentences = [sent_tokenize(text)]\n",
    "    sentences = [y for x in sentences for y in x]\n",
    "    # Remove any short sentences less than 20 letters.\n",
    "    sentences = [sentence.strip() for sentence in sentences if len(sentence) > 20]\n",
    "    return sentences\n",
    "\n",
    "def get_sentences_for_keyword(keywords, sentences):\n",
    "    keyword_processor = KeywordProcessor()\n",
    "    keyword_sentences = {}\n",
    "    for word in keywords:\n",
    "        keyword_sentences[word] = []\n",
    "        keyword_processor.add_keyword(word)\n",
    "    for sentence in sentences:\n",
    "        keywords_found = keyword_processor.extract_keywords(sentence)\n",
    "        for key in keywords_found:\n",
    "            keyword_sentences[key].append(sentence)\n",
    "\n",
    "    for key in keyword_sentences.keys():\n",
    "        values = keyword_sentences[key]\n",
    "        values = sorted(values, key=len, reverse=True)\n",
    "        keyword_sentences[key] = values\n",
    "    return keyword_sentences\n",
    "\n",
    "sentences = tokenize_sentences(Df)\n",
    "keyword_sentence_mapping = get_sentences_for_keyword(final_final_res, sentences)\n",
    "        \n",
    "print (keyword_sentence_mapping)"
   ]
  },
  {
   "cell_type": "code",
   "execution_count": 27,
   "id": "08c983c7",
   "metadata": {},
   "outputs": [
    {
     "name": "stderr",
     "output_type": "stream",
     "text": [
      "[nltk_data] Downloading package punkt to C:\\Users\\Khalid\n",
      "[nltk_data]     Hassan\\AppData\\Roaming\\nltk_data...\n",
      "[nltk_data]   Package punkt is already up-to-date!\n"
     ]
    },
    {
     "data": {
      "text/plain": [
       "True"
      ]
     },
     "execution_count": 27,
     "metadata": {},
     "output_type": "execute_result"
    }
   ],
   "source": [
    "import nltk\n",
    "nltk.download('punkt')"
   ]
  },
  {
   "cell_type": "code",
   "execution_count": 35,
   "id": "0659bb90",
   "metadata": {},
   "outputs": [
    {
     "name": "stdout",
     "output_type": "stream",
     "text": [
      "Requirement already satisfied: transformers==3.0.0 in c:\\programdata\\anaconda3\\lib\\site-packages (3.0.0)\n",
      "Requirement already satisfied: filelock in c:\\programdata\\anaconda3\\lib\\site-packages (from transformers==3.0.0) (3.0.12)\n",
      "Requirement already satisfied: sacremoses in c:\\programdata\\anaconda3\\lib\\site-packages (from transformers==3.0.0) (0.0.53)\n",
      "Requirement already satisfied: packaging in c:\\programdata\\anaconda3\\lib\\site-packages (from transformers==3.0.0) (20.9)\n",
      "Requirement already satisfied: numpy in c:\\programdata\\anaconda3\\lib\\site-packages (from transformers==3.0.0) (1.20.1)\n",
      "Requirement already satisfied: tokenizers==0.8.0-rc4 in c:\\programdata\\anaconda3\\lib\\site-packages (from transformers==3.0.0) (0.8.0rc4)\n",
      "Requirement already satisfied: requests in c:\\programdata\\anaconda3\\lib\\site-packages (from transformers==3.0.0) (2.25.1)\n",
      "Requirement already satisfied: regex!=2019.12.17 in c:\\programdata\\anaconda3\\lib\\site-packages (from transformers==3.0.0) (2021.4.4)\n",
      "Requirement already satisfied: sentencepiece in c:\\programdata\\anaconda3\\lib\\site-packages (from transformers==3.0.0) (0.1.97)\n",
      "Requirement already satisfied: tqdm>=4.27 in c:\\programdata\\anaconda3\\lib\\site-packages (from transformers==3.0.0) (4.59.0)\n",
      "Requirement already satisfied: pyparsing>=2.0.2 in c:\\programdata\\anaconda3\\lib\\site-packages (from packaging->transformers==3.0.0) (2.4.7)\n",
      "Requirement already satisfied: idna<3,>=2.5 in c:\\programdata\\anaconda3\\lib\\site-packages (from requests->transformers==3.0.0) (2.10)\n",
      "Requirement already satisfied: urllib3<1.27,>=1.21.1 in c:\\programdata\\anaconda3\\lib\\site-packages (from requests->transformers==3.0.0) (1.26.4)\n",
      "Requirement already satisfied: certifi>=2017.4.17 in c:\\programdata\\anaconda3\\lib\\site-packages (from requests->transformers==3.0.0) (2020.12.5)\n",
      "Requirement already satisfied: chardet<5,>=3.0.2 in c:\\programdata\\anaconda3\\lib\\site-packages (from requests->transformers==3.0.0) (4.0.0)\n",
      "Requirement already satisfied: click in c:\\programdata\\anaconda3\\lib\\site-packages (from sacremoses->transformers==3.0.0) (7.1.2)\n",
      "Requirement already satisfied: six in c:\\programdata\\anaconda3\\lib\\site-packages (from sacremoses->transformers==3.0.0) (1.15.0)\n",
      "Requirement already satisfied: joblib in c:\\programdata\\anaconda3\\lib\\site-packages (from sacremoses->transformers==3.0.0) (1.0.1)\n"
     ]
    },
    {
     "name": "stderr",
     "output_type": "stream",
     "text": [
      "C:\\ProgramData\\Anaconda3\\lib\\runpy.py:127: RuntimeWarning: 'nltk.downloader' found in sys.modules after import of package 'nltk', but prior to execution of 'nltk.downloader'; this may result in unpredictable behaviour\n",
      "  warn(RuntimeWarning(msg))\n",
      "[nltk_data] Downloading package punkt to C:\\Users\\Khalid\n",
      "[nltk_data]     Hassan\\AppData\\Roaming\\nltk_data...\n",
      "[nltk_data]   Package punkt is already up-to-date!\n",
      "fatal: destination path 'question_generation' already exists and is not an empty directory.\n"
     ]
    }
   ],
   "source": [
    "!pip install -U transformers==3.0.0\n",
    "!python -m nltk.downloader punkt\n",
    "!git clone https://github.com/patil-suraj/question_generation.git"
   ]
  },
  {
   "cell_type": "code",
   "execution_count": 38,
   "id": "7270b7d0",
   "metadata": {},
   "outputs": [
    {
     "name": "stdout",
     "output_type": "stream",
     "text": [
      "[WinError 2] The system cannot find the file specified: 'question_generation'\n",
      "C:\\Users\\Khalid Hassan\\Downloads\\Ai hackathon\\question_generation\n"
     ]
    }
   ],
   "source": [
    "%cd question_generation\n"
   ]
  },
  {
   "cell_type": "code",
   "execution_count": null,
   "id": "a83a5afb",
   "metadata": {},
   "outputs": [],
   "source": [
    "from pipelines import pipeline"
   ]
  },
  {
   "cell_type": "code",
   "execution_count": null,
   "id": "dd44e0d9",
   "metadata": {},
   "outputs": [],
   "source": []
  }
 ],
 "metadata": {
  "kernelspec": {
   "display_name": "Python 3",
   "language": "python",
   "name": "python3"
  },
  "language_info": {
   "codemirror_mode": {
    "name": "ipython",
    "version": 3
   },
   "file_extension": ".py",
   "mimetype": "text/x-python",
   "name": "python",
   "nbconvert_exporter": "python",
   "pygments_lexer": "ipython3",
   "version": "3.8.8"
  }
 },
 "nbformat": 4,
 "nbformat_minor": 5
}
